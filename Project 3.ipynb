{
 "cells": [
  {
   "cell_type": "code",
   "execution_count": 45,
   "metadata": {},
   "outputs": [],
   "source": [
    "import numpy as np\n",
    "import pandas as pd\n",
    "import numpy as np\n",
    "import matplotlib.pyplot as plt\n",
    "from mpl_toolkits.mplot3d import Axes3D\n",
    "from sklearn import datasets\n",
    "from sklearn.decomposition import PCA\n",
    "from sklearn.datasets import load_iris"
   ]
  },
  {
   "cell_type": "code",
   "execution_count": 46,
   "metadata": {},
   "outputs": [],
   "source": [
    "# Load and Prepare Data"
   ]
  },
  {
   "cell_type": "code",
   "execution_count": 47,
   "metadata": {},
   "outputs": [],
   "source": [
    "df = pd.read_csv('london_merged.csv', header=None,index_col=False,names=['timestamp','cnt','t1','t2','hum','wind_speed','weather_code','is_holiday','is_weekend','season'])"
   ]
  },
  {
   "cell_type": "code",
   "execution_count": 48,
   "metadata": {},
   "outputs": [
    {
     "name": "stdout",
     "output_type": "stream",
     "text": [
      "        cnt   t1   t2    hum  wind_speed  weather_code  is_holiday  \\\n",
      "0       cnt   t1   t2    hum  wind_speed  weather_code  is_holiday   \n",
      "1       182  3.0  2.0   93.0         6.0           3.0         0.0   \n",
      "2       138  3.0  2.5   93.0         5.0           1.0         0.0   \n",
      "3       134  2.5  2.5   96.5         0.0           1.0         0.0   \n",
      "4        72  2.0  2.0  100.0         0.0           1.0         0.0   \n",
      "...     ...  ...  ...    ...         ...           ...         ...   \n",
      "17410  1042  5.0  1.0   81.0        19.0           3.0         0.0   \n",
      "17411   541  5.0  1.0   81.0        21.0           4.0         0.0   \n",
      "17412   337  5.5  1.5   78.5        24.0           4.0         0.0   \n",
      "17413   224  5.5  1.5   76.0        23.0           4.0         0.0   \n",
      "17414   139  5.0  1.0   76.0        22.0           2.0         0.0   \n",
      "\n",
      "       is_weekend  season  \n",
      "0      is_weekend  season  \n",
      "1             1.0     3.0  \n",
      "2             1.0     3.0  \n",
      "3             1.0     3.0  \n",
      "4             1.0     3.0  \n",
      "...           ...     ...  \n",
      "17410         0.0     3.0  \n",
      "17411         0.0     3.0  \n",
      "17412         0.0     3.0  \n",
      "17413         0.0     3.0  \n",
      "17414         0.0     3.0  \n",
      "\n",
      "[17415 rows x 9 columns]\n"
     ]
    },
    {
     "data": {
      "text/html": [
       "<div>\n",
       "<style scoped>\n",
       "    .dataframe tbody tr th:only-of-type {\n",
       "        vertical-align: middle;\n",
       "    }\n",
       "\n",
       "    .dataframe tbody tr th {\n",
       "        vertical-align: top;\n",
       "    }\n",
       "\n",
       "    .dataframe thead th {\n",
       "        text-align: right;\n",
       "    }\n",
       "</style>\n",
       "<table border=\"1\" class=\"dataframe\">\n",
       "  <thead>\n",
       "    <tr style=\"text-align: right;\">\n",
       "      <th></th>\n",
       "      <th>cnt</th>\n",
       "      <th>t1</th>\n",
       "      <th>t2</th>\n",
       "      <th>hum</th>\n",
       "      <th>wind_speed</th>\n",
       "      <th>weather_code</th>\n",
       "      <th>is_holiday</th>\n",
       "      <th>is_weekend</th>\n",
       "      <th>season</th>\n",
       "    </tr>\n",
       "  </thead>\n",
       "  <tbody>\n",
       "    <tr>\n",
       "      <th>0</th>\n",
       "      <td>cnt</td>\n",
       "      <td>t1</td>\n",
       "      <td>t2</td>\n",
       "      <td>hum</td>\n",
       "      <td>wind_speed</td>\n",
       "      <td>weather_code</td>\n",
       "      <td>is_holiday</td>\n",
       "      <td>is_weekend</td>\n",
       "      <td>season</td>\n",
       "    </tr>\n",
       "    <tr>\n",
       "      <th>1</th>\n",
       "      <td>182</td>\n",
       "      <td>3.0</td>\n",
       "      <td>2.0</td>\n",
       "      <td>93.0</td>\n",
       "      <td>6.0</td>\n",
       "      <td>3.0</td>\n",
       "      <td>0.0</td>\n",
       "      <td>1.0</td>\n",
       "      <td>3.0</td>\n",
       "    </tr>\n",
       "    <tr>\n",
       "      <th>2</th>\n",
       "      <td>138</td>\n",
       "      <td>3.0</td>\n",
       "      <td>2.5</td>\n",
       "      <td>93.0</td>\n",
       "      <td>5.0</td>\n",
       "      <td>1.0</td>\n",
       "      <td>0.0</td>\n",
       "      <td>1.0</td>\n",
       "      <td>3.0</td>\n",
       "    </tr>\n",
       "    <tr>\n",
       "      <th>3</th>\n",
       "      <td>134</td>\n",
       "      <td>2.5</td>\n",
       "      <td>2.5</td>\n",
       "      <td>96.5</td>\n",
       "      <td>0.0</td>\n",
       "      <td>1.0</td>\n",
       "      <td>0.0</td>\n",
       "      <td>1.0</td>\n",
       "      <td>3.0</td>\n",
       "    </tr>\n",
       "    <tr>\n",
       "      <th>4</th>\n",
       "      <td>72</td>\n",
       "      <td>2.0</td>\n",
       "      <td>2.0</td>\n",
       "      <td>100.0</td>\n",
       "      <td>0.0</td>\n",
       "      <td>1.0</td>\n",
       "      <td>0.0</td>\n",
       "      <td>1.0</td>\n",
       "      <td>3.0</td>\n",
       "    </tr>\n",
       "  </tbody>\n",
       "</table>\n",
       "</div>"
      ],
      "text/plain": [
       "   cnt   t1   t2    hum  wind_speed  weather_code  is_holiday  is_weekend  \\\n",
       "0  cnt   t1   t2    hum  wind_speed  weather_code  is_holiday  is_weekend   \n",
       "1  182  3.0  2.0   93.0         6.0           3.0         0.0         1.0   \n",
       "2  138  3.0  2.5   93.0         5.0           1.0         0.0         1.0   \n",
       "3  134  2.5  2.5   96.5         0.0           1.0         0.0         1.0   \n",
       "4   72  2.0  2.0  100.0         0.0           1.0         0.0         1.0   \n",
       "\n",
       "   season  \n",
       "0  season  \n",
       "1     3.0  \n",
       "2     3.0  \n",
       "3     3.0  \n",
       "4     3.0  "
      ]
     },
     "execution_count": 48,
     "metadata": {},
     "output_type": "execute_result"
    }
   ],
   "source": [
    "#data['weather_code'].unique()\n",
    "\n",
    "data = df.drop(\"timestamp\", axis=1)\n",
    "\n",
    "data['weather_code'].unique()\n",
    "weather_dict = {1 : 100,  2 : 100,  3 : 100,  4 : 100, \n",
    "                7 : 200, 10 : 200, 26 : 200, 94 : 200}\n",
    "data['weather_code']=data['weather_code'].replace(weather_dict)\n",
    "\n",
    "print(data)\n",
    "data.head()"
   ]
  },
  {
   "cell_type": "markdown",
   "metadata": {},
   "source": [
    "# Checking what values columns contain"
   ]
  },
  {
   "cell_type": "code",
   "execution_count": 49,
   "metadata": {},
   "outputs": [
    {
     "name": "stdout",
     "output_type": "stream",
     "text": [
      "0.0           17030\n",
      "1.0             384\n",
      "is_holiday        1\n",
      "Name: is_holiday, dtype: int64\n"
     ]
    }
   ],
   "source": [
    "# I check for the columns that contain not continuous values\n",
    "print(data.is_holiday.value_counts())"
   ]
  },
  {
   "cell_type": "code",
   "execution_count": 50,
   "metadata": {},
   "outputs": [
    {
     "name": "stdout",
     "output_type": "stream",
     "text": [
      "0.0           12444\n",
      "1.0            4970\n",
      "is_weekend        1\n",
      "Name: is_weekend, dtype: int64\n"
     ]
    }
   ],
   "source": [
    "print(data.is_weekend.value_counts())"
   ]
  },
  {
   "cell_type": "code",
   "execution_count": 51,
   "metadata": {},
   "outputs": [
    {
     "name": "stdout",
     "output_type": "stream",
     "text": [
      "12.0                  842\n",
      "11.0                  832\n",
      "14.0                  832\n",
      "13.0                  828\n",
      "15.0                  828\n",
      "                     ... \n",
      "56.0                    1\n",
      "54.0                    1\n",
      "35.5                    1\n",
      "2.6666666666666665      1\n",
      "50.0                    1\n",
      "Name: wind_speed, Length: 104, dtype: int64\n"
     ]
    }
   ],
   "source": [
    "print(data.wind_speed.value_counts())"
   ]
  },
  {
   "cell_type": "markdown",
   "metadata": {},
   "source": [
    "# Import of libraries for scaling and splitting"
   ]
  },
  {
   "cell_type": "code",
   "execution_count": 52,
   "metadata": {},
   "outputs": [],
   "source": [
    "from sklearn.preprocessing import OneHotEncoder, StandardScaler\n",
    "from sklearn.model_selection import train_test_split\n",
    "from sklearn.preprocessing import MinMaxScaler"
   ]
  },
  {
   "cell_type": "markdown",
   "metadata": {},
   "source": [
    "# Preperation of data"
   ]
  },
  {
   "cell_type": "raw",
   "metadata": {},
   "source": [
    "In the below cell we scale our data, and also try to onehot encode the categorical columns. It is the preperation of the data."
   ]
  },
  {
   "cell_type": "code",
   "execution_count": 54,
   "metadata": {},
   "outputs": [
    {
     "data": {
      "text/plain": [
       "Text(0, 0.5, 't2')"
      ]
     },
     "execution_count": 54,
     "metadata": {},
     "output_type": "execute_result"
    },
    {
     "data": {
      "image/png": "[encoded data removed]",
      "text/plain": [
       "<Figure size 432x288 with 1 Axes>"
      ]
     },
     "metadata": {
      "needs_background": "light"
     },
     "output_type": "display_data"
    }
   ],
   "source": [
    "from matplotlib import pyplot as plt\n",
    "# Features and targets \n",
    "x = data.loc[:, data.columns != 'cnt'].values # Feature\n",
    "Y = data.loc[:, data.columns == 'cnt'].values #Target\n",
    "#sc = preprocessing.StandardScaler(with_mean = True). I range fram 0 to 10 \n",
    "# To avoid my prediction to be close to zero\n",
    "sc = MinMaxScaler(feature_range=(0, 5))\n",
    "#Y=np.log1p(Y)\n",
    "# Scaling of the output\n",
    "Y = sc.fit_transform((Y[1:,]))\n",
    "# Transofrming the output\n",
    "Y=np.log1p(Y)\n",
    "\n",
    "# OneHotEncoding of the last four since they are categorical\n",
    "Columns_encode = (x[1:,4:]) # Onehot encode this\n",
    "ohe = OneHotEncoder(sparse=False)\n",
    "Xpart2 =ohe.fit_transform(Columns_encode)\n",
    "# Scaling of first four columns of features\n",
    "Columns_scale =(x[1:,:4])\n",
    "Xpart = sc.fit_transform(Columns_scale)\n",
    "#Then we just merge the two columns together\n",
    "processed_data = np.concatenate([Xpart,Xpart2],axis = 1)\n",
    "#The next thing we do is to split pur data to training and test\n",
    "XTrain, XTest, yTrain, yTest = train_test_split(processed_data, Y, test_size=0.25,shuffle=True)\n",
    "#Below to show correlation between two columns\n",
    "plt.plot(XTrain[:,0],XTrain[0:,1])\n",
    "plt.xlabel('t1')\n",
    "plt.ylabel('t2')"
   ]
  },
  {
   "cell_type": "markdown",
   "metadata": {},
   "source": [
    "# Linear Regression"
   ]
  },
  {
   "cell_type": "raw",
   "metadata": {},
   "source": [
    "The below cells deals with OLS, Ridge and Lasso. We will vary the polynomial degree for all, and alpha parameter for Ridge and Lasso. From this we will try to find out best score for R2-score, and MSE. "
   ]
  },
  {
   "cell_type": "code",
   "execution_count": 55,
   "metadata": {},
   "outputs": [],
   "source": [
    "#Start with importing libraries needed.\n",
    "from sklearn.preprocessing import PolynomialFeatures\n",
    "from sklearn.linear_model import LinearRegression, Ridge, Lasso\n",
    "from sklearn.metrics import mean_squared_error, r2_score\n",
    "from sklearn.metrics import mean_squared_log_error\n",
    "import matplotlib.pyplot as plt\n",
    "import seaborn as sns # Check if you need this\n",
    "from sklearn import linear_model # Also check\n",
    "from sklearn.model_selection import cross_val_score"
   ]
  },
  {
   "cell_type": "code",
   "execution_count": 44,
   "metadata": {},
   "outputs": [
    {
     "name": "stdout",
     "output_type": "stream",
     "text": [
      "[-0.08177766714216403] [0.34485101938060003]\n",
      "[-0.08177766714216403, -1.2096234661649773e+20] [0.34485101938060003, -9.514095824493686e+20]\n"
     ]
    }
   ],
   "source": [
    "#Import Polynomial Features from Sklearn. Thing to analyze is, \n",
    "\n",
    "def LinearRegressionn(PolynomialDegree,Xdata,Ydata):\n",
    "    mse = []\n",
    "    r2 = []\n",
    "    #Contain order od degree\n",
    "    for deg in PolynomialDegree:\n",
    "        poly = PolynomialFeatures(degree = deg)\n",
    "        X_train = poly.fit_transform(Xdata)\n",
    "        X_test = poly.fit_transform(Xdata)\n",
    "        model = LinearRegression()\n",
    "        model.fit(X_train, Ydata)\n",
    "        score = cross_val_score(model,X_train,Ydata,cv=5,scoring='r2')\n",
    "        r2.append(np.mean(score))\n",
    "        mseScore=cross_val_score(model,X_train,Ydata,cv=5,scoring='neg_mean_squared_error')\n",
    "        mse.append(np.mean(mseScore))\n",
    "        y_tilde= model.predict(X_train)\n",
    "        y_pred = model.predict(X_train)\n",
    "        print(mse,r2)\n",
    "    return(mse,r2)\n",
    "#print(train_error,test_error)\n",
    "#Vary complexity of the model\n",
    "a = LinearRegressionn([1,2],XTest,yTest)\n",
    "\n",
    "\n",
    "\n"
   ]
  },
  {
   "cell_type": "markdown",
   "metadata": {},
   "source": [
    "# Neural Network"
   ]
  },
  {
   "cell_type": "raw",
   "metadata": {},
   "source": [
    "In the below code we make a function that choses best Alpha\n",
    "and learning rate."
   ]
  },
  {
   "cell_type": "code",
   "execution_count": 15,
   "metadata": {
    "scrolled": true
   },
   "outputs": [
    {
     "name": "stdout",
     "output_type": "stream",
     "text": [
      "r2Score: 0.2698711849078198 layer: [8, 8] learning_rate: 0.1 alpha: 1.0\n",
      "MSE: -0.08531383691327828 layer: [8, 8] learning_rate: 0.1 alpha: 1.0\n",
      "r2Score: 0.34926827338811534 layer: [8, 8] learning_rate: 0.01 alpha: 1.0\n",
      "MSE: -0.08375541888864049 layer: [8, 8] learning_rate: 0.01 alpha: 1.0\n",
      "r2Score: 0.3533005344136493 layer: [8, 8] learning_rate: 0.1 alpha: 0.1\n",
      "MSE: -0.0915852940077133 layer: [8, 8] learning_rate: 0.1 alpha: 0.1\n",
      "r2Score: 0.3514759960758803 layer: [8, 8] learning_rate: 0.01 alpha: 0.1\n",
      "MSE: -0.08359336829112685 layer: [8, 8] learning_rate: 0.01 alpha: 0.1\n",
      "r2Score: 0.3664053743504557 layer: [8, 8] learning_rate: 0.1 alpha: 0.01\n",
      "MSE: -0.09313901396239044 layer: [8, 8] learning_rate: 0.1 alpha: 0.01\n",
      "r2Score: 0.35003434059339106 layer: [8, 8] learning_rate: 0.01 alpha: 0.01\n",
      "MSE: -0.09374035422139851 layer: [8, 8] learning_rate: 0.01 alpha: 0.01\n",
      "r2Score: 0.2850429512269034 layer: [8, 8] learning_rate: 0.1 alpha: 0.001\n",
      "MSE: -0.0819130838450185 layer: [8, 8] learning_rate: 0.1 alpha: 0.001\n",
      "r2Score: 0.3442334710901562 layer: [8, 8] learning_rate: 0.01 alpha: 0.001\n",
      "MSE: -0.08458978389543717 layer: [8, 8] learning_rate: 0.01 alpha: 0.001\n",
      "Highest_r2Score 0.3664053743504557 Best_Layer_r2 [8, 8] Best_Alpha_r2: 0.01 Best_Learning_r2 0.1\n",
      "Lowest_MSE: -0.0819130838450185 Best_Layer_MSE: [8, 8] Best_Alpha_MSE: 0.001 Best_Learning_MSE: 0.1\n"
     ]
    }
   ],
   "source": [
    "#Remember to change lowest to highest\n",
    "from sklearn.model_selection import cross_val_score\n",
    "from sklearn.neural_network import MLPRegressor\n",
    "def best_score(layers,alpha,learning_rate,Xdata,Ydata):\n",
    "    Highest_r2Score = 0\n",
    "    Lowest_MSE = -100\n",
    "    for i in (layers): \n",
    "        for j in (alpha):\n",
    "            for m in (learning_rate_init):\n",
    "                mlp = MLPRegressor(hidden_layer_sizes=i, max_iter=300, alpha =j,learning_rate_init=m,early_stopping=False,solver = 'sgd')\n",
    "                score = cross_val_score(mlp, Xdata, Ydata.ravel(), cv=5, scoring='r2')\n",
    "                r2Score = np.mean(score)\n",
    "                #r2Pack = ['R2score:',r2Score,'Alpha:',j,'Learning Rate:',m,'Layers:',i ]\n",
    "                print('r2Score:', r2Score,'layer:', i,'learning_rate:', m, 'alpha:',j)\n",
    "                if r2Score>Highest_r2Score:\n",
    "                    Highest_r2Score = r2Score\n",
    "                    Best_Layer_r2 = i\n",
    "                    Best_Alpha_r2 = j\n",
    "                    Best_Learning_r2 = m\n",
    "                    Best_r2 = [i,j,m]\n",
    "                MSEscore = cross_val_score(mlp, Xdata, Ydata.ravel(), cv=5, scoring='neg_mean_squared_error')\n",
    "                MSEScore = np.mean(MSEscore)\n",
    "                print('MSE:',MSEScore,'layer:', i,'learning_rate:', m, 'alpha:',j)\n",
    "                #MSEpack = ['MSE:',MSEScore,'Alpha:',j,'Learning Rate:',m,'Layers:',i ]\n",
    "                if MSEScore>Lowest_MSE:\n",
    "                    Lowest_MSE = MSEScore\n",
    "                    Best_Layer_MSE = i\n",
    "                    Best_Alpha_MSE = j\n",
    "                    Best_Learning_MSE = m\n",
    "                    Best_MSE = [i,j,m]\n",
    "    print('Highest_r2Score', Highest_r2Score, 'Best_Layer_r2',Best_Layer_r2, 'Best_Alpha_r2:', Best_Alpha_r2,'Best_Learning_r2', Best_Learning_r2)\n",
    "    print('Lowest_MSE:', Lowest_MSE, 'Best_Layer_MSE:',Best_Layer_MSE, 'Best_Alpha_MSE:',Best_Alpha_MSE,'Best_Learning_MSE:',Best_Learning_MSE)\n",
    "    return Highest_r2Score, Lowest_MSE, Best_MSE, Best_r2\n",
    "#The layers\n",
    "layer1 = [[8,8]]\n",
    "\n",
    "learning_rate_init = np.array([0.1,0.01])\n",
    "alpha = np.array([1,0.1,0.01,0.001])\n",
    "#a = best_score(layer1,alpha,learning_rate_init,XTrain,yTrain)\n",
    "# Took me 6 hours to run for 1 layer.\n",
    "\n",
    "List = []\n",
    "for i in layer1:\n",
    "    a = best_score([i],alpha,learning_rate_init,XTrain,yTrain)\n",
    "    List.append(a)"
   ]
  },
  {
   "cell_type": "raw",
   "metadata": {},
   "source": [
    "The below code runs through different batch, and number of iteration. Goal is to find optimal batch size."
   ]
  },
  {
   "cell_type": "code",
   "execution_count": 16,
   "metadata": {
    "scrolled": true
   },
   "outputs": [
    {
     "name": "stderr",
     "output_type": "stream",
     "text": [
      "/Library/Frameworks/Python.framework/Versions/3.7/lib/python3.7/site-packages/sklearn/neural_network/multilayer_perceptron.py:566: ConvergenceWarning: Stochastic Optimizer: Maximum iterations (10) reached and the optimization hasn't converged yet.\n",
      "  % self.max_iter, ConvergenceWarning)\n",
      "/Library/Frameworks/Python.framework/Versions/3.7/lib/python3.7/site-packages/sklearn/neural_network/multilayer_perceptron.py:566: ConvergenceWarning: Stochastic Optimizer: Maximum iterations (10) reached and the optimization hasn't converged yet.\n",
      "  % self.max_iter, ConvergenceWarning)\n",
      "/Library/Frameworks/Python.framework/Versions/3.7/lib/python3.7/site-packages/sklearn/neural_network/multilayer_perceptron.py:566: ConvergenceWarning: Stochastic Optimizer: Maximum iterations (10) reached and the optimization hasn't converged yet.\n",
      "  % self.max_iter, ConvergenceWarning)\n",
      "/Library/Frameworks/Python.framework/Versions/3.7/lib/python3.7/site-packages/sklearn/neural_network/multilayer_perceptron.py:566: ConvergenceWarning: Stochastic Optimizer: Maximum iterations (10) reached and the optimization hasn't converged yet.\n",
      "  % self.max_iter, ConvergenceWarning)\n",
      "/Library/Frameworks/Python.framework/Versions/3.7/lib/python3.7/site-packages/sklearn/neural_network/multilayer_perceptron.py:566: ConvergenceWarning: Stochastic Optimizer: Maximum iterations (10) reached and the optimization hasn't converged yet.\n",
      "  % self.max_iter, ConvergenceWarning)\n"
     ]
    },
    {
     "name": "stdout",
     "output_type": "stream",
     "text": [
      "r2Score 0.3668693429363078 BatchSize: 100 NumberOfIteratio: 10\n"
     ]
    },
    {
     "name": "stderr",
     "output_type": "stream",
     "text": [
      "/Library/Frameworks/Python.framework/Versions/3.7/lib/python3.7/site-packages/sklearn/neural_network/multilayer_perceptron.py:566: ConvergenceWarning: Stochastic Optimizer: Maximum iterations (10) reached and the optimization hasn't converged yet.\n",
      "  % self.max_iter, ConvergenceWarning)\n",
      "/Library/Frameworks/Python.framework/Versions/3.7/lib/python3.7/site-packages/sklearn/neural_network/multilayer_perceptron.py:566: ConvergenceWarning: Stochastic Optimizer: Maximum iterations (10) reached and the optimization hasn't converged yet.\n",
      "  % self.max_iter, ConvergenceWarning)\n",
      "/Library/Frameworks/Python.framework/Versions/3.7/lib/python3.7/site-packages/sklearn/neural_network/multilayer_perceptron.py:566: ConvergenceWarning: Stochastic Optimizer: Maximum iterations (10) reached and the optimization hasn't converged yet.\n",
      "  % self.max_iter, ConvergenceWarning)\n",
      "/Library/Frameworks/Python.framework/Versions/3.7/lib/python3.7/site-packages/sklearn/neural_network/multilayer_perceptron.py:566: ConvergenceWarning: Stochastic Optimizer: Maximum iterations (10) reached and the optimization hasn't converged yet.\n",
      "  % self.max_iter, ConvergenceWarning)\n",
      "/Library/Frameworks/Python.framework/Versions/3.7/lib/python3.7/site-packages/sklearn/neural_network/multilayer_perceptron.py:566: ConvergenceWarning: Stochastic Optimizer: Maximum iterations (10) reached and the optimization hasn't converged yet.\n",
      "  % self.max_iter, ConvergenceWarning)\n"
     ]
    },
    {
     "name": "stdout",
     "output_type": "stream",
     "text": [
      "MSE -0.08255147500256202 BatchSize: 100 NumberOfIteratio: 10\n"
     ]
    },
    {
     "name": "stderr",
     "output_type": "stream",
     "text": [
      "/Library/Frameworks/Python.framework/Versions/3.7/lib/python3.7/site-packages/sklearn/neural_network/multilayer_perceptron.py:566: ConvergenceWarning: Stochastic Optimizer: Maximum iterations (100) reached and the optimization hasn't converged yet.\n",
      "  % self.max_iter, ConvergenceWarning)\n",
      "/Library/Frameworks/Python.framework/Versions/3.7/lib/python3.7/site-packages/sklearn/neural_network/multilayer_perceptron.py:566: ConvergenceWarning: Stochastic Optimizer: Maximum iterations (100) reached and the optimization hasn't converged yet.\n",
      "  % self.max_iter, ConvergenceWarning)\n",
      "/Library/Frameworks/Python.framework/Versions/3.7/lib/python3.7/site-packages/sklearn/neural_network/multilayer_perceptron.py:566: ConvergenceWarning: Stochastic Optimizer: Maximum iterations (100) reached and the optimization hasn't converged yet.\n",
      "  % self.max_iter, ConvergenceWarning)\n",
      "/Library/Frameworks/Python.framework/Versions/3.7/lib/python3.7/site-packages/sklearn/neural_network/multilayer_perceptron.py:566: ConvergenceWarning: Stochastic Optimizer: Maximum iterations (100) reached and the optimization hasn't converged yet.\n",
      "  % self.max_iter, ConvergenceWarning)\n",
      "/Library/Frameworks/Python.framework/Versions/3.7/lib/python3.7/site-packages/sklearn/neural_network/multilayer_perceptron.py:566: ConvergenceWarning: Stochastic Optimizer: Maximum iterations (100) reached and the optimization hasn't converged yet.\n",
      "  % self.max_iter, ConvergenceWarning)\n"
     ]
    },
    {
     "name": "stdout",
     "output_type": "stream",
     "text": [
      "r2Score 0.38080065701014293 BatchSize: 100 NumberOfIteratio: 100\n"
     ]
    },
    {
     "name": "stderr",
     "output_type": "stream",
     "text": [
      "/Library/Frameworks/Python.framework/Versions/3.7/lib/python3.7/site-packages/sklearn/neural_network/multilayer_perceptron.py:566: ConvergenceWarning: Stochastic Optimizer: Maximum iterations (100) reached and the optimization hasn't converged yet.\n",
      "  % self.max_iter, ConvergenceWarning)\n",
      "/Library/Frameworks/Python.framework/Versions/3.7/lib/python3.7/site-packages/sklearn/neural_network/multilayer_perceptron.py:566: ConvergenceWarning: Stochastic Optimizer: Maximum iterations (100) reached and the optimization hasn't converged yet.\n",
      "  % self.max_iter, ConvergenceWarning)\n",
      "/Library/Frameworks/Python.framework/Versions/3.7/lib/python3.7/site-packages/sklearn/neural_network/multilayer_perceptron.py:566: ConvergenceWarning: Stochastic Optimizer: Maximum iterations (100) reached and the optimization hasn't converged yet.\n",
      "  % self.max_iter, ConvergenceWarning)\n"
     ]
    },
    {
     "name": "stdout",
     "output_type": "stream",
     "text": [
      "MSE -0.07917747414687862 BatchSize: 100 NumberOfIteratio: 100\n",
      "r2Score 0.38501616058546473 BatchSize: 100 NumberOfIteratio: 300\n",
      "MSE -0.07915699997621442 BatchSize: 100 NumberOfIteratio: 300\n",
      "r2Score 0.38499494743092616 BatchSize: 100 NumberOfIteratio: 400\n",
      "MSE -0.07972767833335528 BatchSize: 100 NumberOfIteratio: 400\n",
      "r2Score 0.3834541336142782 BatchSize: 100 NumberOfIteratio: 500\n",
      "MSE -0.07936766214516897 BatchSize: 100 NumberOfIteratio: 500\n",
      "r2Score 0.38550433045343 BatchSize: 100 NumberOfIteratio: 600\n",
      "MSE -0.07987307706743671 BatchSize: 100 NumberOfIteratio: 600\n"
     ]
    },
    {
     "name": "stderr",
     "output_type": "stream",
     "text": [
      "/Library/Frameworks/Python.framework/Versions/3.7/lib/python3.7/site-packages/sklearn/neural_network/multilayer_perceptron.py:566: ConvergenceWarning: Stochastic Optimizer: Maximum iterations (10) reached and the optimization hasn't converged yet.\n",
      "  % self.max_iter, ConvergenceWarning)\n",
      "/Library/Frameworks/Python.framework/Versions/3.7/lib/python3.7/site-packages/sklearn/neural_network/multilayer_perceptron.py:566: ConvergenceWarning: Stochastic Optimizer: Maximum iterations (10) reached and the optimization hasn't converged yet.\n",
      "  % self.max_iter, ConvergenceWarning)\n",
      "/Library/Frameworks/Python.framework/Versions/3.7/lib/python3.7/site-packages/sklearn/neural_network/multilayer_perceptron.py:566: ConvergenceWarning: Stochastic Optimizer: Maximum iterations (10) reached and the optimization hasn't converged yet.\n",
      "  % self.max_iter, ConvergenceWarning)\n",
      "/Library/Frameworks/Python.framework/Versions/3.7/lib/python3.7/site-packages/sklearn/neural_network/multilayer_perceptron.py:566: ConvergenceWarning: Stochastic Optimizer: Maximum iterations (10) reached and the optimization hasn't converged yet.\n",
      "  % self.max_iter, ConvergenceWarning)\n",
      "/Library/Frameworks/Python.framework/Versions/3.7/lib/python3.7/site-packages/sklearn/neural_network/multilayer_perceptron.py:566: ConvergenceWarning: Stochastic Optimizer: Maximum iterations (10) reached and the optimization hasn't converged yet.\n",
      "  % self.max_iter, ConvergenceWarning)\n"
     ]
    },
    {
     "name": "stdout",
     "output_type": "stream",
     "text": [
      "r2Score 0.3666522710319625 BatchSize: 200 NumberOfIteratio: 10\n"
     ]
    },
    {
     "name": "stderr",
     "output_type": "stream",
     "text": [
      "/Library/Frameworks/Python.framework/Versions/3.7/lib/python3.7/site-packages/sklearn/neural_network/multilayer_perceptron.py:566: ConvergenceWarning: Stochastic Optimizer: Maximum iterations (10) reached and the optimization hasn't converged yet.\n",
      "  % self.max_iter, ConvergenceWarning)\n",
      "/Library/Frameworks/Python.framework/Versions/3.7/lib/python3.7/site-packages/sklearn/neural_network/multilayer_perceptron.py:566: ConvergenceWarning: Stochastic Optimizer: Maximum iterations (10) reached and the optimization hasn't converged yet.\n",
      "  % self.max_iter, ConvergenceWarning)\n",
      "/Library/Frameworks/Python.framework/Versions/3.7/lib/python3.7/site-packages/sklearn/neural_network/multilayer_perceptron.py:566: ConvergenceWarning: Stochastic Optimizer: Maximum iterations (10) reached and the optimization hasn't converged yet.\n",
      "  % self.max_iter, ConvergenceWarning)\n",
      "/Library/Frameworks/Python.framework/Versions/3.7/lib/python3.7/site-packages/sklearn/neural_network/multilayer_perceptron.py:566: ConvergenceWarning: Stochastic Optimizer: Maximum iterations (10) reached and the optimization hasn't converged yet.\n",
      "  % self.max_iter, ConvergenceWarning)\n",
      "/Library/Frameworks/Python.framework/Versions/3.7/lib/python3.7/site-packages/sklearn/neural_network/multilayer_perceptron.py:566: ConvergenceWarning: Stochastic Optimizer: Maximum iterations (10) reached and the optimization hasn't converged yet.\n",
      "  % self.max_iter, ConvergenceWarning)\n"
     ]
    },
    {
     "name": "stdout",
     "output_type": "stream",
     "text": [
      "MSE -0.08286680393457224 BatchSize: 200 NumberOfIteratio: 10\n"
     ]
    },
    {
     "name": "stderr",
     "output_type": "stream",
     "text": [
      "/Library/Frameworks/Python.framework/Versions/3.7/lib/python3.7/site-packages/sklearn/neural_network/multilayer_perceptron.py:566: ConvergenceWarning: Stochastic Optimizer: Maximum iterations (100) reached and the optimization hasn't converged yet.\n",
      "  % self.max_iter, ConvergenceWarning)\n",
      "/Library/Frameworks/Python.framework/Versions/3.7/lib/python3.7/site-packages/sklearn/neural_network/multilayer_perceptron.py:566: ConvergenceWarning: Stochastic Optimizer: Maximum iterations (100) reached and the optimization hasn't converged yet.\n",
      "  % self.max_iter, ConvergenceWarning)\n"
     ]
    },
    {
     "name": "stdout",
     "output_type": "stream",
     "text": [
      "r2Score 0.38620338791722897 BatchSize: 200 NumberOfIteratio: 100\n",
      "MSE -0.07968607312489986 BatchSize: 200 NumberOfIteratio: 100\n",
      "r2Score 0.38061970201597184 BatchSize: 200 NumberOfIteratio: 300\n",
      "MSE -0.0799938744824542 BatchSize: 200 NumberOfIteratio: 300\n",
      "r2Score 0.3806666093695127 BatchSize: 200 NumberOfIteratio: 400\n",
      "MSE -0.07945112416478528 BatchSize: 200 NumberOfIteratio: 400\n",
      "r2Score 0.380636099184135 BatchSize: 200 NumberOfIteratio: 500\n",
      "MSE -0.07931460017175394 BatchSize: 200 NumberOfIteratio: 500\n",
      "r2Score 0.3814576681677986 BatchSize: 200 NumberOfIteratio: 600\n",
      "MSE -0.0793779173173327 BatchSize: 200 NumberOfIteratio: 600\n"
     ]
    },
    {
     "name": "stderr",
     "output_type": "stream",
     "text": [
      "/Library/Frameworks/Python.framework/Versions/3.7/lib/python3.7/site-packages/sklearn/neural_network/multilayer_perceptron.py:566: ConvergenceWarning: Stochastic Optimizer: Maximum iterations (10) reached and the optimization hasn't converged yet.\n",
      "  % self.max_iter, ConvergenceWarning)\n",
      "/Library/Frameworks/Python.framework/Versions/3.7/lib/python3.7/site-packages/sklearn/neural_network/multilayer_perceptron.py:566: ConvergenceWarning: Stochastic Optimizer: Maximum iterations (10) reached and the optimization hasn't converged yet.\n",
      "  % self.max_iter, ConvergenceWarning)\n",
      "/Library/Frameworks/Python.framework/Versions/3.7/lib/python3.7/site-packages/sklearn/neural_network/multilayer_perceptron.py:566: ConvergenceWarning: Stochastic Optimizer: Maximum iterations (10) reached and the optimization hasn't converged yet.\n",
      "  % self.max_iter, ConvergenceWarning)\n",
      "/Library/Frameworks/Python.framework/Versions/3.7/lib/python3.7/site-packages/sklearn/neural_network/multilayer_perceptron.py:566: ConvergenceWarning: Stochastic Optimizer: Maximum iterations (10) reached and the optimization hasn't converged yet.\n",
      "  % self.max_iter, ConvergenceWarning)\n",
      "/Library/Frameworks/Python.framework/Versions/3.7/lib/python3.7/site-packages/sklearn/neural_network/multilayer_perceptron.py:566: ConvergenceWarning: Stochastic Optimizer: Maximum iterations (10) reached and the optimization hasn't converged yet.\n",
      "  % self.max_iter, ConvergenceWarning)\n"
     ]
    },
    {
     "name": "stdout",
     "output_type": "stream",
     "text": [
      "r2Score 0.3677200950165076 BatchSize: 300 NumberOfIteratio: 10\n"
     ]
    },
    {
     "name": "stderr",
     "output_type": "stream",
     "text": [
      "/Library/Frameworks/Python.framework/Versions/3.7/lib/python3.7/site-packages/sklearn/neural_network/multilayer_perceptron.py:566: ConvergenceWarning: Stochastic Optimizer: Maximum iterations (10) reached and the optimization hasn't converged yet.\n",
      "  % self.max_iter, ConvergenceWarning)\n",
      "/Library/Frameworks/Python.framework/Versions/3.7/lib/python3.7/site-packages/sklearn/neural_network/multilayer_perceptron.py:566: ConvergenceWarning: Stochastic Optimizer: Maximum iterations (10) reached and the optimization hasn't converged yet.\n",
      "  % self.max_iter, ConvergenceWarning)\n",
      "/Library/Frameworks/Python.framework/Versions/3.7/lib/python3.7/site-packages/sklearn/neural_network/multilayer_perceptron.py:566: ConvergenceWarning: Stochastic Optimizer: Maximum iterations (10) reached and the optimization hasn't converged yet.\n",
      "  % self.max_iter, ConvergenceWarning)\n",
      "/Library/Frameworks/Python.framework/Versions/3.7/lib/python3.7/site-packages/sklearn/neural_network/multilayer_perceptron.py:566: ConvergenceWarning: Stochastic Optimizer: Maximum iterations (10) reached and the optimization hasn't converged yet.\n",
      "  % self.max_iter, ConvergenceWarning)\n",
      "/Library/Frameworks/Python.framework/Versions/3.7/lib/python3.7/site-packages/sklearn/neural_network/multilayer_perceptron.py:566: ConvergenceWarning: Stochastic Optimizer: Maximum iterations (10) reached and the optimization hasn't converged yet.\n",
      "  % self.max_iter, ConvergenceWarning)\n"
     ]
    },
    {
     "name": "stdout",
     "output_type": "stream",
     "text": [
      "MSE -0.08163583348250675 BatchSize: 300 NumberOfIteratio: 10\n",
      "r2Score 0.3765671253239374 BatchSize: 300 NumberOfIteratio: 100\n",
      "MSE -0.08013593745847773 BatchSize: 300 NumberOfIteratio: 100\n",
      "r2Score 0.37326223361440486 BatchSize: 300 NumberOfIteratio: 300\n",
      "MSE -0.08030941176895805 BatchSize: 300 NumberOfIteratio: 300\n",
      "r2Score 0.3773990272520754 BatchSize: 300 NumberOfIteratio: 400\n",
      "MSE -0.0803678560426256 BatchSize: 300 NumberOfIteratio: 400\n",
      "r2Score 0.3785205283879408 BatchSize: 300 NumberOfIteratio: 500\n",
      "MSE -0.08025464811319971 BatchSize: 300 NumberOfIteratio: 500\n",
      "r2Score 0.37687377595762794 BatchSize: 300 NumberOfIteratio: 600\n",
      "MSE -0.08054043924915667 BatchSize: 300 NumberOfIteratio: 600\n"
     ]
    },
    {
     "name": "stderr",
     "output_type": "stream",
     "text": [
      "/Library/Frameworks/Python.framework/Versions/3.7/lib/python3.7/site-packages/sklearn/neural_network/multilayer_perceptron.py:566: ConvergenceWarning: Stochastic Optimizer: Maximum iterations (10) reached and the optimization hasn't converged yet.\n",
      "  % self.max_iter, ConvergenceWarning)\n",
      "/Library/Frameworks/Python.framework/Versions/3.7/lib/python3.7/site-packages/sklearn/neural_network/multilayer_perceptron.py:566: ConvergenceWarning: Stochastic Optimizer: Maximum iterations (10) reached and the optimization hasn't converged yet.\n",
      "  % self.max_iter, ConvergenceWarning)\n",
      "/Library/Frameworks/Python.framework/Versions/3.7/lib/python3.7/site-packages/sklearn/neural_network/multilayer_perceptron.py:566: ConvergenceWarning: Stochastic Optimizer: Maximum iterations (10) reached and the optimization hasn't converged yet.\n",
      "  % self.max_iter, ConvergenceWarning)\n",
      "/Library/Frameworks/Python.framework/Versions/3.7/lib/python3.7/site-packages/sklearn/neural_network/multilayer_perceptron.py:566: ConvergenceWarning: Stochastic Optimizer: Maximum iterations (10) reached and the optimization hasn't converged yet.\n",
      "  % self.max_iter, ConvergenceWarning)\n",
      "/Library/Frameworks/Python.framework/Versions/3.7/lib/python3.7/site-packages/sklearn/neural_network/multilayer_perceptron.py:566: ConvergenceWarning: Stochastic Optimizer: Maximum iterations (10) reached and the optimization hasn't converged yet.\n",
      "  % self.max_iter, ConvergenceWarning)\n"
     ]
    },
    {
     "name": "stdout",
     "output_type": "stream",
     "text": [
      "r2Score 0.35001870745338903 BatchSize: 400 NumberOfIteratio: 10\n"
     ]
    },
    {
     "name": "stderr",
     "output_type": "stream",
     "text": [
      "/Library/Frameworks/Python.framework/Versions/3.7/lib/python3.7/site-packages/sklearn/neural_network/multilayer_perceptron.py:566: ConvergenceWarning: Stochastic Optimizer: Maximum iterations (10) reached and the optimization hasn't converged yet.\n",
      "  % self.max_iter, ConvergenceWarning)\n",
      "/Library/Frameworks/Python.framework/Versions/3.7/lib/python3.7/site-packages/sklearn/neural_network/multilayer_perceptron.py:566: ConvergenceWarning: Stochastic Optimizer: Maximum iterations (10) reached and the optimization hasn't converged yet.\n",
      "  % self.max_iter, ConvergenceWarning)\n",
      "/Library/Frameworks/Python.framework/Versions/3.7/lib/python3.7/site-packages/sklearn/neural_network/multilayer_perceptron.py:566: ConvergenceWarning: Stochastic Optimizer: Maximum iterations (10) reached and the optimization hasn't converged yet.\n",
      "  % self.max_iter, ConvergenceWarning)\n",
      "/Library/Frameworks/Python.framework/Versions/3.7/lib/python3.7/site-packages/sklearn/neural_network/multilayer_perceptron.py:566: ConvergenceWarning: Stochastic Optimizer: Maximum iterations (10) reached and the optimization hasn't converged yet.\n",
      "  % self.max_iter, ConvergenceWarning)\n",
      "/Library/Frameworks/Python.framework/Versions/3.7/lib/python3.7/site-packages/sklearn/neural_network/multilayer_perceptron.py:566: ConvergenceWarning: Stochastic Optimizer: Maximum iterations (10) reached and the optimization hasn't converged yet.\n",
      "  % self.max_iter, ConvergenceWarning)\n"
     ]
    },
    {
     "name": "stdout",
     "output_type": "stream",
     "text": [
      "MSE -0.08272441037881127 BatchSize: 400 NumberOfIteratio: 10\n",
      "r2Score 0.3714250519138156 BatchSize: 400 NumberOfIteratio: 100\n",
      "MSE -0.08167287339576834 BatchSize: 400 NumberOfIteratio: 100\n",
      "r2Score 0.37211313955456954 BatchSize: 400 NumberOfIteratio: 300\n",
      "MSE -0.08078025206688974 BatchSize: 400 NumberOfIteratio: 300\n",
      "r2Score 0.37434522028183126 BatchSize: 400 NumberOfIteratio: 400\n",
      "MSE -0.08334903159513748 BatchSize: 400 NumberOfIteratio: 400\n",
      "r2Score 0.3744762949571056 BatchSize: 400 NumberOfIteratio: 500\n",
      "MSE -0.08060719141348395 BatchSize: 400 NumberOfIteratio: 500\n",
      "r2Score 0.3643854925175001 BatchSize: 400 NumberOfIteratio: 600\n",
      "MSE -0.08066676633681075 BatchSize: 400 NumberOfIteratio: 600\n"
     ]
    },
    {
     "name": "stderr",
     "output_type": "stream",
     "text": [
      "/Library/Frameworks/Python.framework/Versions/3.7/lib/python3.7/site-packages/sklearn/neural_network/multilayer_perceptron.py:566: ConvergenceWarning: Stochastic Optimizer: Maximum iterations (10) reached and the optimization hasn't converged yet.\n",
      "  % self.max_iter, ConvergenceWarning)\n",
      "/Library/Frameworks/Python.framework/Versions/3.7/lib/python3.7/site-packages/sklearn/neural_network/multilayer_perceptron.py:566: ConvergenceWarning: Stochastic Optimizer: Maximum iterations (10) reached and the optimization hasn't converged yet.\n",
      "  % self.max_iter, ConvergenceWarning)\n",
      "/Library/Frameworks/Python.framework/Versions/3.7/lib/python3.7/site-packages/sklearn/neural_network/multilayer_perceptron.py:566: ConvergenceWarning: Stochastic Optimizer: Maximum iterations (10) reached and the optimization hasn't converged yet.\n",
      "  % self.max_iter, ConvergenceWarning)\n",
      "/Library/Frameworks/Python.framework/Versions/3.7/lib/python3.7/site-packages/sklearn/neural_network/multilayer_perceptron.py:566: ConvergenceWarning: Stochastic Optimizer: Maximum iterations (10) reached and the optimization hasn't converged yet.\n",
      "  % self.max_iter, ConvergenceWarning)\n",
      "/Library/Frameworks/Python.framework/Versions/3.7/lib/python3.7/site-packages/sklearn/neural_network/multilayer_perceptron.py:566: ConvergenceWarning: Stochastic Optimizer: Maximum iterations (10) reached and the optimization hasn't converged yet.\n",
      "  % self.max_iter, ConvergenceWarning)\n"
     ]
    },
    {
     "name": "stdout",
     "output_type": "stream",
     "text": [
      "r2Score 0.3620320294914222 BatchSize: 500 NumberOfIteratio: 10\n"
     ]
    },
    {
     "name": "stderr",
     "output_type": "stream",
     "text": [
      "/Library/Frameworks/Python.framework/Versions/3.7/lib/python3.7/site-packages/sklearn/neural_network/multilayer_perceptron.py:566: ConvergenceWarning: Stochastic Optimizer: Maximum iterations (10) reached and the optimization hasn't converged yet.\n",
      "  % self.max_iter, ConvergenceWarning)\n",
      "/Library/Frameworks/Python.framework/Versions/3.7/lib/python3.7/site-packages/sklearn/neural_network/multilayer_perceptron.py:566: ConvergenceWarning: Stochastic Optimizer: Maximum iterations (10) reached and the optimization hasn't converged yet.\n",
      "  % self.max_iter, ConvergenceWarning)\n",
      "/Library/Frameworks/Python.framework/Versions/3.7/lib/python3.7/site-packages/sklearn/neural_network/multilayer_perceptron.py:566: ConvergenceWarning: Stochastic Optimizer: Maximum iterations (10) reached and the optimization hasn't converged yet.\n",
      "  % self.max_iter, ConvergenceWarning)\n",
      "/Library/Frameworks/Python.framework/Versions/3.7/lib/python3.7/site-packages/sklearn/neural_network/multilayer_perceptron.py:566: ConvergenceWarning: Stochastic Optimizer: Maximum iterations (10) reached and the optimization hasn't converged yet.\n",
      "  % self.max_iter, ConvergenceWarning)\n",
      "/Library/Frameworks/Python.framework/Versions/3.7/lib/python3.7/site-packages/sklearn/neural_network/multilayer_perceptron.py:566: ConvergenceWarning: Stochastic Optimizer: Maximum iterations (10) reached and the optimization hasn't converged yet.\n",
      "  % self.max_iter, ConvergenceWarning)\n"
     ]
    },
    {
     "name": "stdout",
     "output_type": "stream",
     "text": [
      "MSE -0.08231883774452203 BatchSize: 500 NumberOfIteratio: 10\n",
      "r2Score 0.37354472456837706 BatchSize: 500 NumberOfIteratio: 100\n",
      "MSE -0.08081085166202129 BatchSize: 500 NumberOfIteratio: 100\n",
      "r2Score 0.373567379569064 BatchSize: 500 NumberOfIteratio: 300\n",
      "MSE -0.08083772749286615 BatchSize: 500 NumberOfIteratio: 300\n",
      "r2Score 0.37510937383154686 BatchSize: 500 NumberOfIteratio: 400\n",
      "MSE -0.08096852412816895 BatchSize: 500 NumberOfIteratio: 400\n",
      "r2Score 0.37295952866248083 BatchSize: 500 NumberOfIteratio: 500\n",
      "MSE -0.08083676416588463 BatchSize: 500 NumberOfIteratio: 500\n",
      "r2Score 0.37213412374400734 BatchSize: 500 NumberOfIteratio: 600\n",
      "MSE -0.08070688954146144 BatchSize: 500 NumberOfIteratio: 600\n"
     ]
    },
    {
     "name": "stderr",
     "output_type": "stream",
     "text": [
      "/Library/Frameworks/Python.framework/Versions/3.7/lib/python3.7/site-packages/sklearn/neural_network/multilayer_perceptron.py:566: ConvergenceWarning: Stochastic Optimizer: Maximum iterations (10) reached and the optimization hasn't converged yet.\n",
      "  % self.max_iter, ConvergenceWarning)\n",
      "/Library/Frameworks/Python.framework/Versions/3.7/lib/python3.7/site-packages/sklearn/neural_network/multilayer_perceptron.py:566: ConvergenceWarning: Stochastic Optimizer: Maximum iterations (10) reached and the optimization hasn't converged yet.\n",
      "  % self.max_iter, ConvergenceWarning)\n",
      "/Library/Frameworks/Python.framework/Versions/3.7/lib/python3.7/site-packages/sklearn/neural_network/multilayer_perceptron.py:566: ConvergenceWarning: Stochastic Optimizer: Maximum iterations (10) reached and the optimization hasn't converged yet.\n",
      "  % self.max_iter, ConvergenceWarning)\n",
      "/Library/Frameworks/Python.framework/Versions/3.7/lib/python3.7/site-packages/sklearn/neural_network/multilayer_perceptron.py:566: ConvergenceWarning: Stochastic Optimizer: Maximum iterations (10) reached and the optimization hasn't converged yet.\n",
      "  % self.max_iter, ConvergenceWarning)\n",
      "/Library/Frameworks/Python.framework/Versions/3.7/lib/python3.7/site-packages/sklearn/neural_network/multilayer_perceptron.py:566: ConvergenceWarning: Stochastic Optimizer: Maximum iterations (10) reached and the optimization hasn't converged yet.\n",
      "  % self.max_iter, ConvergenceWarning)\n"
     ]
    },
    {
     "name": "stdout",
     "output_type": "stream",
     "text": [
      "r2Score 0.3565510071669088 BatchSize: 600 NumberOfIteratio: 10\n"
     ]
    },
    {
     "name": "stderr",
     "output_type": "stream",
     "text": [
      "/Library/Frameworks/Python.framework/Versions/3.7/lib/python3.7/site-packages/sklearn/neural_network/multilayer_perceptron.py:566: ConvergenceWarning: Stochastic Optimizer: Maximum iterations (10) reached and the optimization hasn't converged yet.\n",
      "  % self.max_iter, ConvergenceWarning)\n",
      "/Library/Frameworks/Python.framework/Versions/3.7/lib/python3.7/site-packages/sklearn/neural_network/multilayer_perceptron.py:566: ConvergenceWarning: Stochastic Optimizer: Maximum iterations (10) reached and the optimization hasn't converged yet.\n",
      "  % self.max_iter, ConvergenceWarning)\n",
      "/Library/Frameworks/Python.framework/Versions/3.7/lib/python3.7/site-packages/sklearn/neural_network/multilayer_perceptron.py:566: ConvergenceWarning: Stochastic Optimizer: Maximum iterations (10) reached and the optimization hasn't converged yet.\n",
      "  % self.max_iter, ConvergenceWarning)\n",
      "/Library/Frameworks/Python.framework/Versions/3.7/lib/python3.7/site-packages/sklearn/neural_network/multilayer_perceptron.py:566: ConvergenceWarning: Stochastic Optimizer: Maximum iterations (10) reached and the optimization hasn't converged yet.\n",
      "  % self.max_iter, ConvergenceWarning)\n",
      "/Library/Frameworks/Python.framework/Versions/3.7/lib/python3.7/site-packages/sklearn/neural_network/multilayer_perceptron.py:566: ConvergenceWarning: Stochastic Optimizer: Maximum iterations (10) reached and the optimization hasn't converged yet.\n",
      "  % self.max_iter, ConvergenceWarning)\n"
     ]
    },
    {
     "name": "stdout",
     "output_type": "stream",
     "text": [
      "MSE -0.08229931945153209 BatchSize: 600 NumberOfIteratio: 10\n",
      "r2Score 0.3690787099159711 BatchSize: 600 NumberOfIteratio: 100\n",
      "MSE -0.08154183342057102 BatchSize: 600 NumberOfIteratio: 100\n",
      "r2Score 0.369852622342251 BatchSize: 600 NumberOfIteratio: 300\n",
      "MSE -0.08122509095913735 BatchSize: 600 NumberOfIteratio: 300\n",
      "r2Score 0.36878078889780286 BatchSize: 600 NumberOfIteratio: 400\n",
      "MSE -0.08083751616242257 BatchSize: 600 NumberOfIteratio: 400\n",
      "r2Score 0.3722235257905401 BatchSize: 600 NumberOfIteratio: 500\n",
      "MSE -0.08095826837846716 BatchSize: 600 NumberOfIteratio: 500\n",
      "r2Score 0.36482328854181995 BatchSize: 600 NumberOfIteratio: 600\n",
      "MSE -0.08116273282076635 BatchSize: 600 NumberOfIteratio: 600\n"
     ]
    },
    {
     "name": "stderr",
     "output_type": "stream",
     "text": [
      "/Library/Frameworks/Python.framework/Versions/3.7/lib/python3.7/site-packages/sklearn/neural_network/multilayer_perceptron.py:566: ConvergenceWarning: Stochastic Optimizer: Maximum iterations (10) reached and the optimization hasn't converged yet.\n",
      "  % self.max_iter, ConvergenceWarning)\n",
      "/Library/Frameworks/Python.framework/Versions/3.7/lib/python3.7/site-packages/sklearn/neural_network/multilayer_perceptron.py:566: ConvergenceWarning: Stochastic Optimizer: Maximum iterations (10) reached and the optimization hasn't converged yet.\n",
      "  % self.max_iter, ConvergenceWarning)\n",
      "/Library/Frameworks/Python.framework/Versions/3.7/lib/python3.7/site-packages/sklearn/neural_network/multilayer_perceptron.py:566: ConvergenceWarning: Stochastic Optimizer: Maximum iterations (10) reached and the optimization hasn't converged yet.\n",
      "  % self.max_iter, ConvergenceWarning)\n",
      "/Library/Frameworks/Python.framework/Versions/3.7/lib/python3.7/site-packages/sklearn/neural_network/multilayer_perceptron.py:566: ConvergenceWarning: Stochastic Optimizer: Maximum iterations (10) reached and the optimization hasn't converged yet.\n",
      "  % self.max_iter, ConvergenceWarning)\n",
      "/Library/Frameworks/Python.framework/Versions/3.7/lib/python3.7/site-packages/sklearn/neural_network/multilayer_perceptron.py:566: ConvergenceWarning: Stochastic Optimizer: Maximum iterations (10) reached and the optimization hasn't converged yet.\n",
      "  % self.max_iter, ConvergenceWarning)\n"
     ]
    },
    {
     "name": "stdout",
     "output_type": "stream",
     "text": [
      "r2Score 0.35492187607484893 BatchSize: 700 NumberOfIteratio: 10\n"
     ]
    },
    {
     "name": "stderr",
     "output_type": "stream",
     "text": [
      "/Library/Frameworks/Python.framework/Versions/3.7/lib/python3.7/site-packages/sklearn/neural_network/multilayer_perceptron.py:566: ConvergenceWarning: Stochastic Optimizer: Maximum iterations (10) reached and the optimization hasn't converged yet.\n",
      "  % self.max_iter, ConvergenceWarning)\n",
      "/Library/Frameworks/Python.framework/Versions/3.7/lib/python3.7/site-packages/sklearn/neural_network/multilayer_perceptron.py:566: ConvergenceWarning: Stochastic Optimizer: Maximum iterations (10) reached and the optimization hasn't converged yet.\n",
      "  % self.max_iter, ConvergenceWarning)\n",
      "/Library/Frameworks/Python.framework/Versions/3.7/lib/python3.7/site-packages/sklearn/neural_network/multilayer_perceptron.py:566: ConvergenceWarning: Stochastic Optimizer: Maximum iterations (10) reached and the optimization hasn't converged yet.\n",
      "  % self.max_iter, ConvergenceWarning)\n",
      "/Library/Frameworks/Python.framework/Versions/3.7/lib/python3.7/site-packages/sklearn/neural_network/multilayer_perceptron.py:566: ConvergenceWarning: Stochastic Optimizer: Maximum iterations (10) reached and the optimization hasn't converged yet.\n",
      "  % self.max_iter, ConvergenceWarning)\n",
      "/Library/Frameworks/Python.framework/Versions/3.7/lib/python3.7/site-packages/sklearn/neural_network/multilayer_perceptron.py:566: ConvergenceWarning: Stochastic Optimizer: Maximum iterations (10) reached and the optimization hasn't converged yet.\n",
      "  % self.max_iter, ConvergenceWarning)\n"
     ]
    },
    {
     "name": "stdout",
     "output_type": "stream",
     "text": [
      "MSE -0.08283931100495015 BatchSize: 700 NumberOfIteratio: 10\n",
      "r2Score 0.37009484439497325 BatchSize: 700 NumberOfIteratio: 100\n",
      "MSE -0.08138271726025657 BatchSize: 700 NumberOfIteratio: 100\n",
      "r2Score 0.37157002513399273 BatchSize: 700 NumberOfIteratio: 300\n",
      "MSE -0.08143890766019118 BatchSize: 700 NumberOfIteratio: 300\n",
      "r2Score 0.3698567557362071 BatchSize: 700 NumberOfIteratio: 400\n",
      "MSE -0.08134334922946104 BatchSize: 700 NumberOfIteratio: 400\n",
      "r2Score 0.37032901796964734 BatchSize: 700 NumberOfIteratio: 500\n",
      "MSE -0.08117920856198332 BatchSize: 700 NumberOfIteratio: 500\n",
      "r2Score 0.37097444800263457 BatchSize: 700 NumberOfIteratio: 600\n",
      "MSE -0.08103267720604539 BatchSize: 700 NumberOfIteratio: 600\n",
      "Highest_r2Score 0.38620338791722897 Best_Batch_r2: 200 Best_NumberOfIteration_r2: 100\n",
      "Lowest_MSE: -0.07915699997621442 Best_Batch_MSE: 100 Best_NumberOfIteration_MSE: 300\n"
     ]
    }
   ],
   "source": [
    "from sklearn.model_selection import cross_val_score\n",
    "#Function for Best_Batch size and number of iteration. Add Layers!! \n",
    "def BestBatchSGDNumOfIteration(batch_size,NumberOfIteration,Xdata,Ydata):\n",
    "    \n",
    "    #r2score,mse =cross_validation_kfold(layers,learning_rate,alpha,processed_data,Y,method='MLP')\n",
    "    #Må lage en tom liste her som lagrer alle score verdiene.\n",
    "    #Stop her. You are done. Fortsett imorgen\n",
    "    #Just set a maximum number for R2Score and MSE\n",
    "    Highest_r2Score = 0\n",
    "    Lowest_MSE = -100\n",
    "    for i in (batch_size): \n",
    "        for j in (NumberOfIteration):\n",
    "            mlp = MLPRegressor(hidden_layer_sizes=[512], max_iter=j, alpha =0.1,learning_rate_init=0.01,early_stopping=False,solver = 'sgd',batch_size=i)\n",
    "            score = cross_val_score(mlp, Xdata, Ydata.ravel(), cv=5, scoring='r2')\n",
    "            r2Score = np.mean(score)\n",
    "            print('r2Score', r2Score,'BatchSize:', i,'NumberOfIteratio:',j)\n",
    "            if r2Score>Highest_r2Score:\n",
    "                Highest_r2Score = r2Score\n",
    "                Best_Batch_r2 = i\n",
    "                Best_NumberOfIteration_r2 = j\n",
    "                Best_r2 = [i,j]\n",
    "            MSEscore = cross_val_score(mlp, Xdata, Ydata.ravel(), cv=5, scoring='neg_mean_squared_error')\n",
    "            MSEScore = np.mean(MSEscore)\n",
    "            print('MSE',MSEScore,'BatchSize:', i,'NumberOfIteratio:',j)\n",
    "            if MSEScore>Lowest_MSE:\n",
    "                Lowest_MSE = MSEScore\n",
    "                Best_Batch_MSE = i\n",
    "                Best_NumberOfIteration_MSE = j\n",
    "                Best_MSE = [i,j]\n",
    "    print('Highest_r2Score', Highest_r2Score, 'Best_Batch_r2:',Best_Batch_r2, 'Best_NumberOfIteration_r2:', Best_NumberOfIteration_r2)\n",
    "    print('Lowest_MSE:', Lowest_MSE, 'Best_Batch_MSE:',Best_Batch_MSE, 'Best_NumberOfIteration_MSE:',Best_NumberOfIteration_MSE)\n",
    "    return Highest_r2Score, Lowest_MSE, Best_MSE, Best_r2\n",
    "\n",
    "BatchSize = [100,200,300,400,500,600,700]\n",
    "NumberOfIteration = [10,100,300,400,500,600]\n",
    "b = BestBatchSGDNumOfIteration(BatchSize,NumberOfIteration,XTrain,yTrain)"
   ]
  },
  {
   "cell_type": "code",
   "execution_count": 14,
   "metadata": {
    "scrolled": false
   },
   "outputs": [],
   "source": [
    "# Funtion interprating for SGD and GD R2-score and MSE as function of number of iteration\n",
    "# Goal to see the bias variance tradeoff in the plots.\n",
    "def gradient_stochastic_cal(BatchSize,Layers,epochs,OptimizationMethod,Xdata,Ydata):\n",
    "    #Create empty list for storing R2-score, and MSE for stochastic gradient descent\n",
    "    r2ScoreSGD = []\n",
    "    MSEScoreSGD = []\n",
    "    #Create empty list for storing R2-score, and MSE for gradient descent\n",
    "    r2ScoreGD = []\n",
    "    MSEScoreGD = []\n",
    "    for i in (epochs):\n",
    "        for optimazor in OptimizationMethod:\n",
    "            mlp = MLPRegressor(hidden_layer_sizes=[Layers], max_iter=i, alpha =0.0001,learning_rate_init=0.001,early_stopping=False,solver = optimazor,random_state=42,batch_size=BatchSize)\n",
    "            score = cross_val_score(mlp, Xdata, Ydata.ravel(), cv=5, scoring='r2')\n",
    "            MSEscore = cross_val_score(mlp, Xdata, Ydata.ravel(), cv=5, scoring='neg_mean_squared_error')\n",
    "            if optimazor == 'sgd':\n",
    "                r2score = np.mean(score)\n",
    "                r2ScoreSGD.append(r2score)\n",
    "                MSEScore = np.mean(MSEscore)\n",
    "                MSEScoreSGD.append(MSEScore)\n",
    "            else:\n",
    "                r2score = np.mean(score)\n",
    "                r2ScoreGD.append(r2score)\n",
    "                MSEScore = np.mean(MSEscore)\n",
    "                MSEScoreGD.append(MSEScore)\n",
    "    return(r2ScoreSGD,MSEScoreSGD,r2ScoreGD,MSEScoreGD)\n",
    "\n",
    "epochs = [2,3,4,5,8,10,15,20,30,40,80,120,200,360,500,700,1000,1300]\n",
    "OptimizationMethod = ['sgd','lbfgs']\n",
    "#A512Train = gradient_stochastic_cal(200,512,epochs,OptimizationMethod,XTrain,yTrain)\n"
   ]
  },
  {
   "cell_type": "code",
   "execution_count": 13,
   "metadata": {
    "scrolled": false
   },
   "outputs": [
    {
     "data": {
      "text/plain": [
       "([],\n",
       " [-0.0953347505588163,\n",
       "  -0.09138223074604966,\n",
       "  -0.08898213468287512,\n",
       "  -0.08724078578018206,\n",
       "  -0.08469346482316506,\n",
       "  -0.08393004156165841,\n",
       "  -0.08289832360745744,\n",
       "  -0.08241538922627464,\n",
       "  -0.08204651327239579,\n",
       "  -0.08204651327239579,\n",
       "  -0.08204651327239579,\n",
       "  -0.08204651327239579,\n",
       "  -0.08204651327239579,\n",
       "  -0.08204651327239579,\n",
       "  -0.08204651327239579,\n",
       "  -0.08204651327239579,\n",
       "  -0.08204651327239579,\n",
       "  -0.08204651327239579],\n",
       " [-0.14226267197328313,\n",
       "  0.0406622502717058,\n",
       "  0.0406622502717058,\n",
       "  0.21311745526900108,\n",
       "  0.34311378259008873,\n",
       "  0.34655658298097614,\n",
       "  0.35703074327838785,\n",
       "  0.3642313096412173,\n",
       "  0.3736992083254248,\n",
       "  0.3803936950264378,\n",
       "  0.3888290222283831,\n",
       "  0.39046036500234677,\n",
       "  0.38974804770211113,\n",
       "  0.38523739315850625,\n",
       "  0.380137088489181,\n",
       "  0.37276262199121757,\n",
       "  0.3616151325402123,\n",
       "  0.34907907971554614],\n",
       " [-0.1456519971835244,\n",
       "  -0.12233057328355985,\n",
       "  -0.12233057328355985,\n",
       "  -0.10034129126247933,\n",
       "  -0.08375927133280009,\n",
       "  -0.08332011909261487,\n",
       "  -0.0819855327714896,\n",
       "  -0.08106577012222738,\n",
       "  -0.07986456976849951,\n",
       "  -0.07900990382631953,\n",
       "  -0.07793296636084743,\n",
       "  -0.07772422499655102,\n",
       "  -0.07781588820774879,\n",
       "  -0.0783945102550195,\n",
       "  -0.07904644892682229,\n",
       "  -0.07998910640004957,\n",
       "  -0.08141827400361532,\n",
       "  -0.08301389257748368])"
      ]
     },
     "execution_count": 13,
     "metadata": {},
     "output_type": "execute_result"
    }
   ],
   "source": [
    "A512Train"
   ]
  },
  {
   "cell_type": "code",
   "execution_count": 15,
   "metadata": {},
   "outputs": [
    {
     "name": "stderr",
     "output_type": "stream",
     "text": [
      "/Library/Frameworks/Python.framework/Versions/3.7/lib/python3.7/site-packages/sklearn/neural_network/multilayer_perceptron.py:566: ConvergenceWarning: Stochastic Optimizer: Maximum iterations (2) reached and the optimization hasn't converged yet.\n",
      "  % self.max_iter, ConvergenceWarning)\n",
      "/Library/Frameworks/Python.framework/Versions/3.7/lib/python3.7/site-packages/sklearn/neural_network/multilayer_perceptron.py:566: ConvergenceWarning: Stochastic Optimizer: Maximum iterations (2) reached and the optimization hasn't converged yet.\n",
      "  % self.max_iter, ConvergenceWarning)\n",
      "/Library/Frameworks/Python.framework/Versions/3.7/lib/python3.7/site-packages/sklearn/neural_network/multilayer_perceptron.py:566: ConvergenceWarning: Stochastic Optimizer: Maximum iterations (2) reached and the optimization hasn't converged yet.\n",
      "  % self.max_iter, ConvergenceWarning)\n",
      "/Library/Frameworks/Python.framework/Versions/3.7/lib/python3.7/site-packages/sklearn/neural_network/multilayer_perceptron.py:566: ConvergenceWarning: Stochastic Optimizer: Maximum iterations (2) reached and the optimization hasn't converged yet.\n",
      "  % self.max_iter, ConvergenceWarning)\n",
      "/Library/Frameworks/Python.framework/Versions/3.7/lib/python3.7/site-packages/sklearn/neural_network/multilayer_perceptron.py:566: ConvergenceWarning: Stochastic Optimizer: Maximum iterations (2) reached and the optimization hasn't converged yet.\n",
      "  % self.max_iter, ConvergenceWarning)\n",
      "/Library/Frameworks/Python.framework/Versions/3.7/lib/python3.7/site-packages/sklearn/neural_network/multilayer_perceptron.py:566: ConvergenceWarning: Stochastic Optimizer: Maximum iterations (2) reached and the optimization hasn't converged yet.\n",
      "  % self.max_iter, ConvergenceWarning)\n",
      "/Library/Frameworks/Python.framework/Versions/3.7/lib/python3.7/site-packages/sklearn/neural_network/multilayer_perceptron.py:566: ConvergenceWarning: Stochastic Optimizer: Maximum iterations (2) reached and the optimization hasn't converged yet.\n",
      "  % self.max_iter, ConvergenceWarning)\n",
      "/Library/Frameworks/Python.framework/Versions/3.7/lib/python3.7/site-packages/sklearn/neural_network/multilayer_perceptron.py:566: ConvergenceWarning: Stochastic Optimizer: Maximum iterations (2) reached and the optimization hasn't converged yet.\n",
      "  % self.max_iter, ConvergenceWarning)\n",
      "/Library/Frameworks/Python.framework/Versions/3.7/lib/python3.7/site-packages/sklearn/neural_network/multilayer_perceptron.py:566: ConvergenceWarning: Stochastic Optimizer: Maximum iterations (2) reached and the optimization hasn't converged yet.\n",
      "  % self.max_iter, ConvergenceWarning)\n",
      "/Library/Frameworks/Python.framework/Versions/3.7/lib/python3.7/site-packages/sklearn/neural_network/multilayer_perceptron.py:566: ConvergenceWarning: Stochastic Optimizer: Maximum iterations (2) reached and the optimization hasn't converged yet.\n",
      "  % self.max_iter, ConvergenceWarning)\n",
      "/Library/Frameworks/Python.framework/Versions/3.7/lib/python3.7/site-packages/sklearn/neural_network/multilayer_perceptron.py:566: ConvergenceWarning: Stochastic Optimizer: Maximum iterations (3) reached and the optimization hasn't converged yet.\n",
      "  % self.max_iter, ConvergenceWarning)\n",
      "/Library/Frameworks/Python.framework/Versions/3.7/lib/python3.7/site-packages/sklearn/neural_network/multilayer_perceptron.py:566: ConvergenceWarning: Stochastic Optimizer: Maximum iterations (3) reached and the optimization hasn't converged yet.\n",
      "  % self.max_iter, ConvergenceWarning)\n",
      "/Library/Frameworks/Python.framework/Versions/3.7/lib/python3.7/site-packages/sklearn/neural_network/multilayer_perceptron.py:566: ConvergenceWarning: Stochastic Optimizer: Maximum iterations (3) reached and the optimization hasn't converged yet.\n",
      "  % self.max_iter, ConvergenceWarning)\n",
      "/Library/Frameworks/Python.framework/Versions/3.7/lib/python3.7/site-packages/sklearn/neural_network/multilayer_perceptron.py:566: ConvergenceWarning: Stochastic Optimizer: Maximum iterations (3) reached and the optimization hasn't converged yet.\n",
      "  % self.max_iter, ConvergenceWarning)\n",
      "/Library/Frameworks/Python.framework/Versions/3.7/lib/python3.7/site-packages/sklearn/neural_network/multilayer_perceptron.py:566: ConvergenceWarning: Stochastic Optimizer: Maximum iterations (3) reached and the optimization hasn't converged yet.\n",
      "  % self.max_iter, ConvergenceWarning)\n",
      "/Library/Frameworks/Python.framework/Versions/3.7/lib/python3.7/site-packages/sklearn/neural_network/multilayer_perceptron.py:566: ConvergenceWarning: Stochastic Optimizer: Maximum iterations (3) reached and the optimization hasn't converged yet.\n",
      "  % self.max_iter, ConvergenceWarning)\n",
      "/Library/Frameworks/Python.framework/Versions/3.7/lib/python3.7/site-packages/sklearn/neural_network/multilayer_perceptron.py:566: ConvergenceWarning: Stochastic Optimizer: Maximum iterations (3) reached and the optimization hasn't converged yet.\n",
      "  % self.max_iter, ConvergenceWarning)\n",
      "/Library/Frameworks/Python.framework/Versions/3.7/lib/python3.7/site-packages/sklearn/neural_network/multilayer_perceptron.py:566: ConvergenceWarning: Stochastic Optimizer: Maximum iterations (3) reached and the optimization hasn't converged yet.\n",
      "  % self.max_iter, ConvergenceWarning)\n",
      "/Library/Frameworks/Python.framework/Versions/3.7/lib/python3.7/site-packages/sklearn/neural_network/multilayer_perceptron.py:566: ConvergenceWarning: Stochastic Optimizer: Maximum iterations (3) reached and the optimization hasn't converged yet.\n",
      "  % self.max_iter, ConvergenceWarning)\n",
      "/Library/Frameworks/Python.framework/Versions/3.7/lib/python3.7/site-packages/sklearn/neural_network/multilayer_perceptron.py:566: ConvergenceWarning: Stochastic Optimizer: Maximum iterations (3) reached and the optimization hasn't converged yet.\n",
      "  % self.max_iter, ConvergenceWarning)\n",
      "/Library/Frameworks/Python.framework/Versions/3.7/lib/python3.7/site-packages/sklearn/neural_network/multilayer_perceptron.py:566: ConvergenceWarning: Stochastic Optimizer: Maximum iterations (4) reached and the optimization hasn't converged yet.\n",
      "  % self.max_iter, ConvergenceWarning)\n",
      "/Library/Frameworks/Python.framework/Versions/3.7/lib/python3.7/site-packages/sklearn/neural_network/multilayer_perceptron.py:566: ConvergenceWarning: Stochastic Optimizer: Maximum iterations (4) reached and the optimization hasn't converged yet.\n",
      "  % self.max_iter, ConvergenceWarning)\n",
      "/Library/Frameworks/Python.framework/Versions/3.7/lib/python3.7/site-packages/sklearn/neural_network/multilayer_perceptron.py:566: ConvergenceWarning: Stochastic Optimizer: Maximum iterations (4) reached and the optimization hasn't converged yet.\n",
      "  % self.max_iter, ConvergenceWarning)\n",
      "/Library/Frameworks/Python.framework/Versions/3.7/lib/python3.7/site-packages/sklearn/neural_network/multilayer_perceptron.py:566: ConvergenceWarning: Stochastic Optimizer: Maximum iterations (4) reached and the optimization hasn't converged yet.\n",
      "  % self.max_iter, ConvergenceWarning)\n",
      "/Library/Frameworks/Python.framework/Versions/3.7/lib/python3.7/site-packages/sklearn/neural_network/multilayer_perceptron.py:566: ConvergenceWarning: Stochastic Optimizer: Maximum iterations (4) reached and the optimization hasn't converged yet.\n",
      "  % self.max_iter, ConvergenceWarning)\n",
      "/Library/Frameworks/Python.framework/Versions/3.7/lib/python3.7/site-packages/sklearn/neural_network/multilayer_perceptron.py:566: ConvergenceWarning: Stochastic Optimizer: Maximum iterations (4) reached and the optimization hasn't converged yet.\n",
      "  % self.max_iter, ConvergenceWarning)\n",
      "/Library/Frameworks/Python.framework/Versions/3.7/lib/python3.7/site-packages/sklearn/neural_network/multilayer_perceptron.py:566: ConvergenceWarning: Stochastic Optimizer: Maximum iterations (4) reached and the optimization hasn't converged yet.\n",
      "  % self.max_iter, ConvergenceWarning)\n",
      "/Library/Frameworks/Python.framework/Versions/3.7/lib/python3.7/site-packages/sklearn/neural_network/multilayer_perceptron.py:566: ConvergenceWarning: Stochastic Optimizer: Maximum iterations (4) reached and the optimization hasn't converged yet.\n",
      "  % self.max_iter, ConvergenceWarning)\n",
      "/Library/Frameworks/Python.framework/Versions/3.7/lib/python3.7/site-packages/sklearn/neural_network/multilayer_perceptron.py:566: ConvergenceWarning: Stochastic Optimizer: Maximum iterations (4) reached and the optimization hasn't converged yet.\n",
      "  % self.max_iter, ConvergenceWarning)\n"
     ]
    },
    {
     "name": "stderr",
     "output_type": "stream",
     "text": [
      "/Library/Frameworks/Python.framework/Versions/3.7/lib/python3.7/site-packages/sklearn/neural_network/multilayer_perceptron.py:566: ConvergenceWarning: Stochastic Optimizer: Maximum iterations (4) reached and the optimization hasn't converged yet.\n",
      "  % self.max_iter, ConvergenceWarning)\n",
      "/Library/Frameworks/Python.framework/Versions/3.7/lib/python3.7/site-packages/sklearn/neural_network/multilayer_perceptron.py:566: ConvergenceWarning: Stochastic Optimizer: Maximum iterations (5) reached and the optimization hasn't converged yet.\n",
      "  % self.max_iter, ConvergenceWarning)\n",
      "/Library/Frameworks/Python.framework/Versions/3.7/lib/python3.7/site-packages/sklearn/neural_network/multilayer_perceptron.py:566: ConvergenceWarning: Stochastic Optimizer: Maximum iterations (5) reached and the optimization hasn't converged yet.\n",
      "  % self.max_iter, ConvergenceWarning)\n",
      "/Library/Frameworks/Python.framework/Versions/3.7/lib/python3.7/site-packages/sklearn/neural_network/multilayer_perceptron.py:566: ConvergenceWarning: Stochastic Optimizer: Maximum iterations (5) reached and the optimization hasn't converged yet.\n",
      "  % self.max_iter, ConvergenceWarning)\n",
      "/Library/Frameworks/Python.framework/Versions/3.7/lib/python3.7/site-packages/sklearn/neural_network/multilayer_perceptron.py:566: ConvergenceWarning: Stochastic Optimizer: Maximum iterations (5) reached and the optimization hasn't converged yet.\n",
      "  % self.max_iter, ConvergenceWarning)\n",
      "/Library/Frameworks/Python.framework/Versions/3.7/lib/python3.7/site-packages/sklearn/neural_network/multilayer_perceptron.py:566: ConvergenceWarning: Stochastic Optimizer: Maximum iterations (5) reached and the optimization hasn't converged yet.\n",
      "  % self.max_iter, ConvergenceWarning)\n",
      "/Library/Frameworks/Python.framework/Versions/3.7/lib/python3.7/site-packages/sklearn/neural_network/multilayer_perceptron.py:566: ConvergenceWarning: Stochastic Optimizer: Maximum iterations (5) reached and the optimization hasn't converged yet.\n",
      "  % self.max_iter, ConvergenceWarning)\n",
      "/Library/Frameworks/Python.framework/Versions/3.7/lib/python3.7/site-packages/sklearn/neural_network/multilayer_perceptron.py:566: ConvergenceWarning: Stochastic Optimizer: Maximum iterations (5) reached and the optimization hasn't converged yet.\n",
      "  % self.max_iter, ConvergenceWarning)\n",
      "/Library/Frameworks/Python.framework/Versions/3.7/lib/python3.7/site-packages/sklearn/neural_network/multilayer_perceptron.py:566: ConvergenceWarning: Stochastic Optimizer: Maximum iterations (5) reached and the optimization hasn't converged yet.\n",
      "  % self.max_iter, ConvergenceWarning)\n",
      "/Library/Frameworks/Python.framework/Versions/3.7/lib/python3.7/site-packages/sklearn/neural_network/multilayer_perceptron.py:566: ConvergenceWarning: Stochastic Optimizer: Maximum iterations (5) reached and the optimization hasn't converged yet.\n",
      "  % self.max_iter, ConvergenceWarning)\n",
      "/Library/Frameworks/Python.framework/Versions/3.7/lib/python3.7/site-packages/sklearn/neural_network/multilayer_perceptron.py:566: ConvergenceWarning: Stochastic Optimizer: Maximum iterations (5) reached and the optimization hasn't converged yet.\n",
      "  % self.max_iter, ConvergenceWarning)\n",
      "/Library/Frameworks/Python.framework/Versions/3.7/lib/python3.7/site-packages/sklearn/neural_network/multilayer_perceptron.py:566: ConvergenceWarning: Stochastic Optimizer: Maximum iterations (8) reached and the optimization hasn't converged yet.\n",
      "  % self.max_iter, ConvergenceWarning)\n",
      "/Library/Frameworks/Python.framework/Versions/3.7/lib/python3.7/site-packages/sklearn/neural_network/multilayer_perceptron.py:566: ConvergenceWarning: Stochastic Optimizer: Maximum iterations (8) reached and the optimization hasn't converged yet.\n",
      "  % self.max_iter, ConvergenceWarning)\n",
      "/Library/Frameworks/Python.framework/Versions/3.7/lib/python3.7/site-packages/sklearn/neural_network/multilayer_perceptron.py:566: ConvergenceWarning: Stochastic Optimizer: Maximum iterations (8) reached and the optimization hasn't converged yet.\n",
      "  % self.max_iter, ConvergenceWarning)\n",
      "/Library/Frameworks/Python.framework/Versions/3.7/lib/python3.7/site-packages/sklearn/neural_network/multilayer_perceptron.py:566: ConvergenceWarning: Stochastic Optimizer: Maximum iterations (8) reached and the optimization hasn't converged yet.\n",
      "  % self.max_iter, ConvergenceWarning)\n",
      "/Library/Frameworks/Python.framework/Versions/3.7/lib/python3.7/site-packages/sklearn/neural_network/multilayer_perceptron.py:566: ConvergenceWarning: Stochastic Optimizer: Maximum iterations (8) reached and the optimization hasn't converged yet.\n",
      "  % self.max_iter, ConvergenceWarning)\n",
      "/Library/Frameworks/Python.framework/Versions/3.7/lib/python3.7/site-packages/sklearn/neural_network/multilayer_perceptron.py:566: ConvergenceWarning: Stochastic Optimizer: Maximum iterations (8) reached and the optimization hasn't converged yet.\n",
      "  % self.max_iter, ConvergenceWarning)\n",
      "/Library/Frameworks/Python.framework/Versions/3.7/lib/python3.7/site-packages/sklearn/neural_network/multilayer_perceptron.py:566: ConvergenceWarning: Stochastic Optimizer: Maximum iterations (8) reached and the optimization hasn't converged yet.\n",
      "  % self.max_iter, ConvergenceWarning)\n",
      "/Library/Frameworks/Python.framework/Versions/3.7/lib/python3.7/site-packages/sklearn/neural_network/multilayer_perceptron.py:566: ConvergenceWarning: Stochastic Optimizer: Maximum iterations (8) reached and the optimization hasn't converged yet.\n",
      "  % self.max_iter, ConvergenceWarning)\n",
      "/Library/Frameworks/Python.framework/Versions/3.7/lib/python3.7/site-packages/sklearn/neural_network/multilayer_perceptron.py:566: ConvergenceWarning: Stochastic Optimizer: Maximum iterations (8) reached and the optimization hasn't converged yet.\n",
      "  % self.max_iter, ConvergenceWarning)\n",
      "/Library/Frameworks/Python.framework/Versions/3.7/lib/python3.7/site-packages/sklearn/neural_network/multilayer_perceptron.py:566: ConvergenceWarning: Stochastic Optimizer: Maximum iterations (8) reached and the optimization hasn't converged yet.\n",
      "  % self.max_iter, ConvergenceWarning)\n",
      "/Library/Frameworks/Python.framework/Versions/3.7/lib/python3.7/site-packages/sklearn/neural_network/multilayer_perceptron.py:566: ConvergenceWarning: Stochastic Optimizer: Maximum iterations (10) reached and the optimization hasn't converged yet.\n",
      "  % self.max_iter, ConvergenceWarning)\n",
      "/Library/Frameworks/Python.framework/Versions/3.7/lib/python3.7/site-packages/sklearn/neural_network/multilayer_perceptron.py:566: ConvergenceWarning: Stochastic Optimizer: Maximum iterations (10) reached and the optimization hasn't converged yet.\n",
      "  % self.max_iter, ConvergenceWarning)\n",
      "/Library/Frameworks/Python.framework/Versions/3.7/lib/python3.7/site-packages/sklearn/neural_network/multilayer_perceptron.py:566: ConvergenceWarning: Stochastic Optimizer: Maximum iterations (10) reached and the optimization hasn't converged yet.\n",
      "  % self.max_iter, ConvergenceWarning)\n",
      "/Library/Frameworks/Python.framework/Versions/3.7/lib/python3.7/site-packages/sklearn/neural_network/multilayer_perceptron.py:566: ConvergenceWarning: Stochastic Optimizer: Maximum iterations (10) reached and the optimization hasn't converged yet.\n",
      "  % self.max_iter, ConvergenceWarning)\n",
      "/Library/Frameworks/Python.framework/Versions/3.7/lib/python3.7/site-packages/sklearn/neural_network/multilayer_perceptron.py:566: ConvergenceWarning: Stochastic Optimizer: Maximum iterations (10) reached and the optimization hasn't converged yet.\n",
      "  % self.max_iter, ConvergenceWarning)\n",
      "/Library/Frameworks/Python.framework/Versions/3.7/lib/python3.7/site-packages/sklearn/neural_network/multilayer_perceptron.py:566: ConvergenceWarning: Stochastic Optimizer: Maximum iterations (10) reached and the optimization hasn't converged yet.\n",
      "  % self.max_iter, ConvergenceWarning)\n",
      "/Library/Frameworks/Python.framework/Versions/3.7/lib/python3.7/site-packages/sklearn/neural_network/multilayer_perceptron.py:566: ConvergenceWarning: Stochastic Optimizer: Maximum iterations (10) reached and the optimization hasn't converged yet.\n",
      "  % self.max_iter, ConvergenceWarning)\n",
      "/Library/Frameworks/Python.framework/Versions/3.7/lib/python3.7/site-packages/sklearn/neural_network/multilayer_perceptron.py:566: ConvergenceWarning: Stochastic Optimizer: Maximum iterations (10) reached and the optimization hasn't converged yet.\n",
      "  % self.max_iter, ConvergenceWarning)\n"
     ]
    },
    {
     "name": "stderr",
     "output_type": "stream",
     "text": [
      "/Library/Frameworks/Python.framework/Versions/3.7/lib/python3.7/site-packages/sklearn/neural_network/multilayer_perceptron.py:566: ConvergenceWarning: Stochastic Optimizer: Maximum iterations (10) reached and the optimization hasn't converged yet.\n",
      "  % self.max_iter, ConvergenceWarning)\n",
      "/Library/Frameworks/Python.framework/Versions/3.7/lib/python3.7/site-packages/sklearn/neural_network/multilayer_perceptron.py:566: ConvergenceWarning: Stochastic Optimizer: Maximum iterations (10) reached and the optimization hasn't converged yet.\n",
      "  % self.max_iter, ConvergenceWarning)\n",
      "/Library/Frameworks/Python.framework/Versions/3.7/lib/python3.7/site-packages/sklearn/neural_network/multilayer_perceptron.py:566: ConvergenceWarning: Stochastic Optimizer: Maximum iterations (15) reached and the optimization hasn't converged yet.\n",
      "  % self.max_iter, ConvergenceWarning)\n",
      "/Library/Frameworks/Python.framework/Versions/3.7/lib/python3.7/site-packages/sklearn/neural_network/multilayer_perceptron.py:566: ConvergenceWarning: Stochastic Optimizer: Maximum iterations (15) reached and the optimization hasn't converged yet.\n",
      "  % self.max_iter, ConvergenceWarning)\n",
      "/Library/Frameworks/Python.framework/Versions/3.7/lib/python3.7/site-packages/sklearn/neural_network/multilayer_perceptron.py:566: ConvergenceWarning: Stochastic Optimizer: Maximum iterations (15) reached and the optimization hasn't converged yet.\n",
      "  % self.max_iter, ConvergenceWarning)\n",
      "/Library/Frameworks/Python.framework/Versions/3.7/lib/python3.7/site-packages/sklearn/neural_network/multilayer_perceptron.py:566: ConvergenceWarning: Stochastic Optimizer: Maximum iterations (15) reached and the optimization hasn't converged yet.\n",
      "  % self.max_iter, ConvergenceWarning)\n",
      "/Library/Frameworks/Python.framework/Versions/3.7/lib/python3.7/site-packages/sklearn/neural_network/multilayer_perceptron.py:566: ConvergenceWarning: Stochastic Optimizer: Maximum iterations (15) reached and the optimization hasn't converged yet.\n",
      "  % self.max_iter, ConvergenceWarning)\n",
      "/Library/Frameworks/Python.framework/Versions/3.7/lib/python3.7/site-packages/sklearn/neural_network/multilayer_perceptron.py:566: ConvergenceWarning: Stochastic Optimizer: Maximum iterations (15) reached and the optimization hasn't converged yet.\n",
      "  % self.max_iter, ConvergenceWarning)\n",
      "/Library/Frameworks/Python.framework/Versions/3.7/lib/python3.7/site-packages/sklearn/neural_network/multilayer_perceptron.py:566: ConvergenceWarning: Stochastic Optimizer: Maximum iterations (15) reached and the optimization hasn't converged yet.\n",
      "  % self.max_iter, ConvergenceWarning)\n",
      "/Library/Frameworks/Python.framework/Versions/3.7/lib/python3.7/site-packages/sklearn/neural_network/multilayer_perceptron.py:566: ConvergenceWarning: Stochastic Optimizer: Maximum iterations (15) reached and the optimization hasn't converged yet.\n",
      "  % self.max_iter, ConvergenceWarning)\n",
      "/Library/Frameworks/Python.framework/Versions/3.7/lib/python3.7/site-packages/sklearn/neural_network/multilayer_perceptron.py:566: ConvergenceWarning: Stochastic Optimizer: Maximum iterations (15) reached and the optimization hasn't converged yet.\n",
      "  % self.max_iter, ConvergenceWarning)\n",
      "/Library/Frameworks/Python.framework/Versions/3.7/lib/python3.7/site-packages/sklearn/neural_network/multilayer_perceptron.py:566: ConvergenceWarning: Stochastic Optimizer: Maximum iterations (15) reached and the optimization hasn't converged yet.\n",
      "  % self.max_iter, ConvergenceWarning)\n",
      "/Library/Frameworks/Python.framework/Versions/3.7/lib/python3.7/site-packages/sklearn/neural_network/multilayer_perceptron.py:566: ConvergenceWarning: Stochastic Optimizer: Maximum iterations (20) reached and the optimization hasn't converged yet.\n",
      "  % self.max_iter, ConvergenceWarning)\n",
      "/Library/Frameworks/Python.framework/Versions/3.7/lib/python3.7/site-packages/sklearn/neural_network/multilayer_perceptron.py:566: ConvergenceWarning: Stochastic Optimizer: Maximum iterations (20) reached and the optimization hasn't converged yet.\n",
      "  % self.max_iter, ConvergenceWarning)\n",
      "/Library/Frameworks/Python.framework/Versions/3.7/lib/python3.7/site-packages/sklearn/neural_network/multilayer_perceptron.py:566: ConvergenceWarning: Stochastic Optimizer: Maximum iterations (20) reached and the optimization hasn't converged yet.\n",
      "  % self.max_iter, ConvergenceWarning)\n",
      "/Library/Frameworks/Python.framework/Versions/3.7/lib/python3.7/site-packages/sklearn/neural_network/multilayer_perceptron.py:566: ConvergenceWarning: Stochastic Optimizer: Maximum iterations (20) reached and the optimization hasn't converged yet.\n",
      "  % self.max_iter, ConvergenceWarning)\n",
      "/Library/Frameworks/Python.framework/Versions/3.7/lib/python3.7/site-packages/sklearn/neural_network/multilayer_perceptron.py:566: ConvergenceWarning: Stochastic Optimizer: Maximum iterations (20) reached and the optimization hasn't converged yet.\n",
      "  % self.max_iter, ConvergenceWarning)\n",
      "/Library/Frameworks/Python.framework/Versions/3.7/lib/python3.7/site-packages/sklearn/neural_network/multilayer_perceptron.py:566: ConvergenceWarning: Stochastic Optimizer: Maximum iterations (20) reached and the optimization hasn't converged yet.\n",
      "  % self.max_iter, ConvergenceWarning)\n",
      "/Library/Frameworks/Python.framework/Versions/3.7/lib/python3.7/site-packages/sklearn/neural_network/multilayer_perceptron.py:566: ConvergenceWarning: Stochastic Optimizer: Maximum iterations (20) reached and the optimization hasn't converged yet.\n",
      "  % self.max_iter, ConvergenceWarning)\n",
      "/Library/Frameworks/Python.framework/Versions/3.7/lib/python3.7/site-packages/sklearn/neural_network/multilayer_perceptron.py:566: ConvergenceWarning: Stochastic Optimizer: Maximum iterations (20) reached and the optimization hasn't converged yet.\n",
      "  % self.max_iter, ConvergenceWarning)\n",
      "/Library/Frameworks/Python.framework/Versions/3.7/lib/python3.7/site-packages/sklearn/neural_network/multilayer_perceptron.py:566: ConvergenceWarning: Stochastic Optimizer: Maximum iterations (20) reached and the optimization hasn't converged yet.\n",
      "  % self.max_iter, ConvergenceWarning)\n",
      "/Library/Frameworks/Python.framework/Versions/3.7/lib/python3.7/site-packages/sklearn/neural_network/multilayer_perceptron.py:566: ConvergenceWarning: Stochastic Optimizer: Maximum iterations (20) reached and the optimization hasn't converged yet.\n",
      "  % self.max_iter, ConvergenceWarning)\n"
     ]
    }
   ],
   "source": [
    "Asecond512Train = gradient_stochastic_cal(200,512,epochs,OptimizationMethod,XTrain,yTrain)"
   ]
  },
  {
   "cell_type": "code",
   "execution_count": 17,
   "metadata": {},
   "outputs": [
    {
     "data": {
      "text/plain": [
       "([0.2523805023871158,\n",
       "  0.2833659822525688,\n",
       "  0.30217925176784766,\n",
       "  0.3158327043066502,\n",
       "  0.3357940861781151,\n",
       "  0.34179162887242515,\n",
       "  0.34987093098840266,\n",
       "  0.35366063754313143,\n",
       "  0.356548453752397,\n",
       "  0.356548453752397,\n",
       "  0.356548453752397,\n",
       "  0.356548453752397,\n",
       "  0.356548453752397,\n",
       "  0.356548453752397,\n",
       "  0.356548453752397,\n",
       "  0.356548453752397,\n",
       "  0.356548453752397,\n",
       "  0.356548453752397],\n",
       " [-0.0953347505588163,\n",
       "  -0.09138223074604966,\n",
       "  -0.08898213468287512,\n",
       "  -0.08724078578018206,\n",
       "  -0.08469346482316506,\n",
       "  -0.08393004156165841,\n",
       "  -0.08289832360745744,\n",
       "  -0.08241538922627464,\n",
       "  -0.08204651327239579,\n",
       "  -0.08204651327239579,\n",
       "  -0.08204651327239579,\n",
       "  -0.08204651327239579,\n",
       "  -0.08204651327239579,\n",
       "  -0.08204651327239579,\n",
       "  -0.08204651327239579,\n",
       "  -0.08204651327239579,\n",
       "  -0.08204651327239579,\n",
       "  -0.08204651327239579],\n",
       " [-0.14226267197328313,\n",
       "  0.0406622502717058,\n",
       "  0.0406622502717058,\n",
       "  0.21311745526900108,\n",
       "  0.34311378259008873,\n",
       "  0.34655658298097614,\n",
       "  0.35703074327838785,\n",
       "  0.3642313096412173,\n",
       "  0.3736992083254248,\n",
       "  0.3803936950264378,\n",
       "  0.3888290222283831,\n",
       "  0.39046036500234677,\n",
       "  0.38974804770211113,\n",
       "  0.38523739315850625,\n",
       "  0.380137088489181,\n",
       "  0.37276262199121757,\n",
       "  0.3616151325402123,\n",
       "  0.34907907971554614],\n",
       " [-0.1456519971835244,\n",
       "  -0.12233057328355985,\n",
       "  -0.12233057328355985,\n",
       "  -0.10034129126247933,\n",
       "  -0.08375927133280009,\n",
       "  -0.08332011909261487,\n",
       "  -0.0819855327714896,\n",
       "  -0.08106577012222738,\n",
       "  -0.07986456976849951,\n",
       "  -0.07900990382631953,\n",
       "  -0.07793296636084743,\n",
       "  -0.07772422499655102,\n",
       "  -0.07781588820774879,\n",
       "  -0.0783945102550195,\n",
       "  -0.07904644892682229,\n",
       "  -0.07998910640004957,\n",
       "  -0.08141827400361532,\n",
       "  -0.08301389257748368])"
      ]
     },
     "execution_count": 17,
     "metadata": {},
     "output_type": "execute_result"
    }
   ],
   "source": [
    "Asecond512Train"
   ]
  },
  {
   "cell_type": "markdown",
   "metadata": {},
   "source": [
    "# DecisionTrees"
   ]
  },
  {
   "cell_type": "markdown",
   "metadata": {},
   "source": [
    "In the below cell we run the code, and calculate mse, and R2-score while changing minimum number of samples, or maximum number of leaves. Also, the code calcultes the MSE for train, and test. For more explanation we refer back to the report."
   ]
  },
  {
   "cell_type": "code",
   "execution_count": 70,
   "metadata": {
    "scrolled": false
   },
   "outputs": [
    {
     "name": "stdout",
     "output_type": "stream",
     "text": [
      "Test R2 score: 0.21 MSE: -0.10 Depth: 1.00 MaxNumOfLeafNodes: 2.00\n",
      "Test R2 score: 0.21 MSE: -0.10 Depth: 1.00 MaxNumOfLeafNodes: 10.00\n",
      "Test R2 score: 0.21 MSE: -0.10 Depth: 1.00 MaxNumOfLeafNodes: 30.00\n",
      "Test R2 score: 0.21 MSE: -0.10 Depth: 1.00 MaxNumOfLeafNodes: 60.00\n",
      "Test R2 score: 0.21 MSE: -0.10 Depth: 1.00 MaxNumOfLeafNodes: 100.00\n",
      "Test R2 score: 0.21 MSE: -0.10 Depth: 1.00 MaxNumOfLeafNodes: 150.00\n",
      "Test R2 score: 0.21 MSE: -0.10 Depth: 1.00 MaxNumOfLeafNodes: 250.00\n",
      "Test R2 score: 0.21 MSE: -0.10 Depth: 2.00 MaxNumOfLeafNodes: 2.00\n",
      "Test R2 score: 0.26 MSE: -0.09 Depth: 2.00 MaxNumOfLeafNodes: 10.00\n",
      "Test R2 score: 0.26 MSE: -0.09 Depth: 2.00 MaxNumOfLeafNodes: 30.00\n",
      "Test R2 score: 0.26 MSE: -0.09 Depth: 2.00 MaxNumOfLeafNodes: 60.00\n",
      "Test R2 score: 0.26 MSE: -0.09 Depth: 2.00 MaxNumOfLeafNodes: 100.00\n",
      "Test R2 score: 0.26 MSE: -0.09 Depth: 2.00 MaxNumOfLeafNodes: 150.00\n",
      "Test R2 score: 0.26 MSE: -0.09 Depth: 2.00 MaxNumOfLeafNodes: 250.00\n",
      "Test R2 score: 0.21 MSE: -0.10 Depth: 3.00 MaxNumOfLeafNodes: 2.00\n",
      "Test R2 score: 0.29 MSE: -0.09 Depth: 3.00 MaxNumOfLeafNodes: 10.00\n",
      "Test R2 score: 0.29 MSE: -0.09 Depth: 3.00 MaxNumOfLeafNodes: 30.00\n",
      "Test R2 score: 0.29 MSE: -0.09 Depth: 3.00 MaxNumOfLeafNodes: 60.00\n",
      "Test R2 score: 0.29 MSE: -0.09 Depth: 3.00 MaxNumOfLeafNodes: 100.00\n",
      "Test R2 score: 0.29 MSE: -0.09 Depth: 3.00 MaxNumOfLeafNodes: 150.00\n",
      "Test R2 score: 0.29 MSE: -0.09 Depth: 3.00 MaxNumOfLeafNodes: 250.00\n",
      "Test R2 score: 0.21 MSE: -0.10 Depth: 4.00 MaxNumOfLeafNodes: 2.00\n",
      "Test R2 score: 0.30 MSE: -0.09 Depth: 4.00 MaxNumOfLeafNodes: 10.00\n",
      "Test R2 score: 0.31 MSE: -0.09 Depth: 4.00 MaxNumOfLeafNodes: 30.00\n",
      "Test R2 score: 0.31 MSE: -0.09 Depth: 4.00 MaxNumOfLeafNodes: 60.00\n",
      "Test R2 score: 0.31 MSE: -0.09 Depth: 4.00 MaxNumOfLeafNodes: 100.00\n",
      "Test R2 score: 0.31 MSE: -0.09 Depth: 4.00 MaxNumOfLeafNodes: 150.00\n",
      "Test R2 score: 0.31 MSE: -0.09 Depth: 4.00 MaxNumOfLeafNodes: 250.00\n",
      "Test R2 score: 0.21 MSE: -0.10 Depth: 5.00 MaxNumOfLeafNodes: 2.00\n",
      "Test R2 score: 0.30 MSE: -0.09 Depth: 5.00 MaxNumOfLeafNodes: 10.00\n",
      "Test R2 score: 0.32 MSE: -0.09 Depth: 5.00 MaxNumOfLeafNodes: 30.00\n",
      "Test R2 score: 0.32 MSE: -0.09 Depth: 5.00 MaxNumOfLeafNodes: 60.00\n",
      "Test R2 score: 0.32 MSE: -0.09 Depth: 5.00 MaxNumOfLeafNodes: 100.00\n",
      "Test R2 score: 0.32 MSE: -0.09 Depth: 5.00 MaxNumOfLeafNodes: 150.00\n",
      "Test R2 score: 0.32 MSE: -0.09 Depth: 5.00 MaxNumOfLeafNodes: 250.00\n",
      "Test R2 score: 0.21 MSE: -0.10 Depth: 6.00 MaxNumOfLeafNodes: 2.00\n",
      "Test R2 score: 0.30 MSE: -0.09 Depth: 6.00 MaxNumOfLeafNodes: 10.00\n",
      "Test R2 score: 0.32 MSE: -0.09 Depth: 6.00 MaxNumOfLeafNodes: 30.00\n",
      "Test R2 score: 0.32 MSE: -0.09 Depth: 6.00 MaxNumOfLeafNodes: 60.00\n",
      "Test R2 score: 0.32 MSE: -0.09 Depth: 6.00 MaxNumOfLeafNodes: 100.00\n",
      "Test R2 score: 0.32 MSE: -0.09 Depth: 6.00 MaxNumOfLeafNodes: 150.00\n",
      "Test R2 score: 0.32 MSE: -0.09 Depth: 6.00 MaxNumOfLeafNodes: 250.00\n",
      "Test R2 score: 0.21 MSE: -0.10 Depth: 7.00 MaxNumOfLeafNodes: 2.00\n",
      "Test R2 score: 0.30 MSE: -0.09 Depth: 7.00 MaxNumOfLeafNodes: 10.00\n",
      "Test R2 score: 0.32 MSE: -0.09 Depth: 7.00 MaxNumOfLeafNodes: 30.00\n",
      "Test R2 score: 0.32 MSE: -0.09 Depth: 7.00 MaxNumOfLeafNodes: 60.00\n",
      "Test R2 score: 0.32 MSE: -0.09 Depth: 7.00 MaxNumOfLeafNodes: 100.00\n",
      "Test R2 score: 0.32 MSE: -0.09 Depth: 7.00 MaxNumOfLeafNodes: 150.00\n",
      "Test R2 score: 0.32 MSE: -0.09 Depth: 7.00 MaxNumOfLeafNodes: 250.00\n",
      "Test R2 score: 0.21 MSE: -0.10 Depth: 8.00 MaxNumOfLeafNodes: 2.00\n",
      "Test R2 score: 0.30 MSE: -0.09 Depth: 8.00 MaxNumOfLeafNodes: 10.00\n",
      "Test R2 score: 0.32 MSE: -0.09 Depth: 8.00 MaxNumOfLeafNodes: 30.00\n",
      "Test R2 score: 0.31 MSE: -0.09 Depth: 8.00 MaxNumOfLeafNodes: 60.00\n",
      "Test R2 score: 0.31 MSE: -0.09 Depth: 8.00 MaxNumOfLeafNodes: 100.00\n",
      "Test R2 score: 0.31 MSE: -0.09 Depth: 8.00 MaxNumOfLeafNodes: 150.00\n",
      "Test R2 score: 0.31 MSE: -0.09 Depth: 8.00 MaxNumOfLeafNodes: 250.00\n",
      "Test R2 score: 0.21 MSE: -0.10 Depth: 9.00 MaxNumOfLeafNodes: 2.00\n",
      "Test R2 score: 0.30 MSE: -0.09 Depth: 9.00 MaxNumOfLeafNodes: 10.00\n",
      "Test R2 score: 0.32 MSE: -0.09 Depth: 9.00 MaxNumOfLeafNodes: 30.00\n",
      "Test R2 score: 0.31 MSE: -0.09 Depth: 9.00 MaxNumOfLeafNodes: 60.00\n",
      "Test R2 score: 0.31 MSE: -0.09 Depth: 9.00 MaxNumOfLeafNodes: 100.00\n",
      "Test R2 score: 0.31 MSE: -0.09 Depth: 9.00 MaxNumOfLeafNodes: 150.00\n",
      "Test R2 score: 0.31 MSE: -0.09 Depth: 9.00 MaxNumOfLeafNodes: 250.00\n",
      "([-0.10040142698479168, -0.10040142698479168, -0.10040142698479168, -0.10040142698479168, -0.10040142698479168, -0.10040142698479168, -0.10040142698479168, -0.10040142698479168, -0.09332531803663162, -0.09332531803663162, -0.09332531803663162, -0.09332531803663162, -0.09332531803663162, -0.09332531803663162, -0.10040142698479168, -0.09034064954071293, -0.09034064954071293, -0.09034064954071293, -0.09034064954071293, -0.09034064954071293, -0.09034064954071293, -0.10040142698479168, -0.08841326509287657, -0.08693481920105947, -0.08693481920105947, -0.08693481920105947, -0.08693481920105947, -0.08693481920105947, -0.10040142698479168, -0.08841678780251656, -0.08562238647085871, -0.08562238647085871, -0.08562238647085871, -0.08562238647085871, -0.08562238647085871, -0.10040142698479168, -0.08841678780251656, -0.08568725545263534, -0.08551699895637499, -0.08551699895637499, -0.08551699895637499, -0.08551699895637499, -0.10040142698479168, -0.08841678780251656, -0.08581579338239993, -0.08642222505324623, -0.08642222505324623, -0.08642222505324623, -0.08642222505324623, -0.10040142698479168, -0.08841678780251656, -0.08649586987328224, -0.08731304511089841, -0.08731304511089841, -0.08731304511089841, -0.08731304511089841, -0.10040142698479168, -0.08841678780251656, -0.08645992916136112, -0.08715418716540886, -0.08724882845161469, -0.08724882845161469, -0.08724882845161469], [0.2063583641280038, 0.2063583641280038, 0.2063583641280038, 0.2063583641280038, 0.2063583641280038, 0.2063583641280038, 0.2063583641280038, 0.2063583641280038, 0.2623062987524646, 0.2623062987524646, 0.2623062987524646, 0.2623062987524646, 0.2623062987524646, 0.2623062987524646, 0.2063583641280038, 0.28588437754526186, 0.28588437754526186, 0.28588437754526186, 0.28588437754526186, 0.28588437754526186, 0.28588437754526186, 0.2063583641280038, 0.3008781855294055, 0.3127104102316675, 0.3127104102316675, 0.3127104102316675, 0.3127104102316675, 0.3127104102316675, 0.2063583641280038, 0.3009502920188707, 0.3230034162350155, 0.3230034162350155, 0.3230034162350155, 0.3230034162350155, 0.3230034162350155, 0.2063583641280038, 0.3009502920188707, 0.322504407936777, 0.32387067499470873, 0.32387067499470873, 0.32387067499470873, 0.32387067499470873, 0.2063583641280038, 0.3009502920188707, 0.3212793322038056, 0.31667627397912657, 0.31667627397912657, 0.31667627397912657, 0.31667627397912657, 0.2063583641280038, 0.3009502920188707, 0.31563124173325113, 0.30930522586810566, 0.30930522586810566, 0.30930522586810566, 0.30930522586810566, 0.2063583641280038, 0.3009502920188707, 0.31591573521891914, 0.3105675423418172, 0.3098394041946878, 0.3098394041946878, 0.3098394041946878])\n"
     ]
    }
   ],
   "source": [
    "# Create a function that does analyze on the min_samples_split, and also maximum number of leaves\n",
    "# What we end up with is the R2-score and MSE as the parameters are changing each at a time!(not at the same time)\n",
    "from sklearn.tree import DecisionTreeRegressor\n",
    "def DecisionTreeAnalyzor(depth,parameter,DataType,MinSampleSplit,MaxNumOfLeafNodes):\n",
    "    r2 = []\n",
    "    mse = []\n",
    "    for i in range(1,depth): # Run over different depth levels\n",
    "        if parameter == 'MinSampleSplit': # Specify here which parameter we want to the analyze on\n",
    "            Component = MinSampleSplit\n",
    "        else:\n",
    "            Component = MaxNumOfLeafNodes\n",
    "        for j in Component: # Loop of the parameter\n",
    "            if parameter == 'MinSampleSplit':\n",
    "                # Chose the parameters. Here max_depth is iterated over deoth, whereas min_samples_split is changing. See that maximum number of leaves is contant = 100\n",
    "                model = DecisionTreeRegressor(max_depth = i,min_samples_split = j,max_features=19,max_leaf_nodes = 100,min_weight_fraction_leaf=0.001,random_state=42)\n",
    "            else:\n",
    "                #Here the maximum number of leaves changes whereas minimum number of samples before split is constantly = 100\n",
    "                model = DecisionTreeRegressor(max_depth = i,min_samples_split = 100,max_features=19,max_leaf_nodes = j,min_weight_fraction_leaf=0.001,random_state=42)\n",
    "            #Fit of model\n",
    "            model.fit(XTrain,yTrain)\n",
    "            #Calculate R2-score with help of SKLEARN kfold cross validation\n",
    "            if DataType == 'Train':\n",
    "                score = cross_val_score(model,XTrain,yTrain,cv=5,scoring='r2')\n",
    "            else:\n",
    "                score = cross_val_score(model,XTest,yTest,cv=5,scoring='r2')\n",
    "            r2Score = np.mean(score)\n",
    "            r2.append(np.mean(score))\n",
    "            # Also here, we calculate the MSE. Differentiate between training or Test data\n",
    "            if DataType == 'Train':\n",
    "                mseScore=cross_val_score(model,XTrain,yTrain,cv=5,scoring='neg_mean_squared_error')\n",
    "            elif DataType =='Test':\n",
    "                mseScore=cross_val_score(model,XTest,yTest,cv=5,scoring='neg_mean_squared_error')\n",
    "            MSE = np.mean(mseScore)\n",
    "            mse.append(np.mean(mseScore)) # Make a list\n",
    "            if parameter == 'MinSampleSplit':\n",
    "                print(\"Test R2 score: {:.2f}\".format(r2Score),\"MSE: {:.2f}\".format(MSE),\"Depth: {:.2f}\".format(i),\"MinSampleSplit: {:.2f}\".format(j))\n",
    "            else:\n",
    "                print(\"Test R2 score: {:.2f}\".format(r2Score),\"MSE: {:.2f}\".format(MSE),\"Depth: {:.2f}\".format(i),\"MaxNumOfLeafNodes: {:.2f}\".format(j))\n",
    "    return mse,r2\n",
    "# Input parameters\n",
    "MinSampleSplit = [2,5,7,10,20,30,50,80,100,200,400,500,600,700,800,1000,1600]\n",
    "MaxNumOfLeafNodes = [2,10,30,60,100,150,250]\n",
    "#Be sure to delete the \"extra\" t, OR add if you want to analyze minimum number of samples.\n",
    "parameter = ('MinSampleSplitt')\n",
    "DataType = ('Test') # Insert in datatype so that we are sure we are using train data. Or\n",
    "j = DecisionTreeAnalyzor(10,parameter,DataType,MinSampleSplit,MaxNumOfLeafNodes)\n",
    "print(j)"
   ]
  },
  {
   "cell_type": "raw",
   "metadata": {},
   "source": [
    "# Now we are going to make the algorithm"
   ]
  },
  {
   "cell_type": "code",
   "execution_count": 71,
   "metadata": {},
   "outputs": [
    {
     "data": {
      "image/png": "[encoded data removed]",
      "text/plain": [
       "<Figure size 432x288 with 4 Axes>"
      ]
     },
     "metadata": {
      "needs_background": "light"
     },
     "output_type": "display_data"
    }
   ],
   "source": [
    "# Remember to run function: def DecisionTreeAnalyzor(depth,parameter,MinSampleSplit,MaxNumOfLeafNodes,Xdata,Ydata)\n",
    "# before running the below cell.\n",
    "\n",
    "def plotfun(data,parameter):\n",
    "    mse,r2 = j\n",
    "    if parameter == 'MinSampleSplit':\n",
    "        Component = MinSampleSplit\n",
    "    else:\n",
    "        Component = MaxNumOfLeafNodes\n",
    "    #Just Create Arrays\n",
    "    mseDegree1 = np.array(mse[0:len(Component)])\n",
    "    mseDegree9 = np.array(mse[len(Component)*8:len(Component)*9])\n",
    "    mseDegree8 = np.array(mse[len(Component)*7:len(Component)*8])\n",
    "    mseDegree4 = np.array(mse[len(Component)*3:len(Component)*4])\n",
    "    mseDegree5 = np.array(mse[len(Component)*4:len(Component)*5])\n",
    "    fig, axs = plt.subplots(2, 2, sharex='col', sharey='row',\n",
    "                        gridspec_kw={'hspace': 0, 'wspace': 0})\n",
    "    (ax1, ax2), (ax3, ax4) = axs\n",
    "    if data == 'Test':\n",
    "        fig.suptitle('MSE for Test Data')\n",
    "    else:\n",
    "        fig.suptitle('MSE for Train Data')\n",
    "    if parameter == 'MinSampleSplit':\n",
    "        ax1.plot(Component,-mseDegree5,label='MinSampleSplitDegree5')\n",
    "        ax1.legend()\n",
    "        ax1.set_xlabel('MinSampleSplit')\n",
    "        ax1.set_ylabel('MSE')\n",
    "        ax2.plot(Component,-mseDegree9, 'tab:orange',label='MinSampleSplitDegree9')\n",
    "        ax2.legend()\n",
    "        ax2.set_xlabel('MinSampleSplit')\n",
    "        ax2.set_ylabel('MSE')\n",
    "        ax3.plot(Component,-mseDegree8, 'tab:green',label='MinSampleSplitDegree8')\n",
    "        ax3.legend()\n",
    "        ax3.set_xlabel('MinSampleSplit')\n",
    "        ax3.set_ylabel('MSE')\n",
    "        ax4.plot(Component,-mseDegree4, 'tab:red',label='MinSampleSplitDegree4')\n",
    "        ax4.legend()\n",
    "        ax4.set_xlabel('MinSampleSplit')\n",
    "        ax4.set_ylabel('MSE')\n",
    "        for ax in axs.flat:\n",
    "            ax.label_outer()\n",
    "    else:\n",
    "        ax1.plot(Component,-mseDegree5,label='MaxNumOfLeafNodesDegree5')\n",
    "        ax1.legend()\n",
    "        ax1.set_xlabel('MaxNumOfLeafNodes')\n",
    "        ax1.set_ylabel('MSE')\n",
    "        ax2.plot(Component,-mseDegree9, 'tab:orange',label='MaxNumOfLeafNodesDegree9')\n",
    "        ax2.legend()\n",
    "        ax2.set_xlabel('MaxNumOfLeafNodes')\n",
    "        ax2.set_ylabel('MSE')\n",
    "        ax3.plot(Component,-mseDegree8, 'tab:green',label='MaxNumOfLeafNodesDegree8')\n",
    "        ax3.legend()\n",
    "        ax3.set_xlabel('MaxNumOfLeafNodes')\n",
    "        ax3.set_ylabel('MSE')\n",
    "        ax4.plot(Component,-mseDegree4, 'tab:red',label='MaxNumOfLeafNodesDegree4')\n",
    "        ax4.legend()\n",
    "        ax4.set_xlabel('MaxNumOfLeafNodes')\n",
    "        ax4.set_ylabel('MSE')\n",
    "        for ax in axs.flat:\n",
    "            ax.label_outer()\n",
    "\n",
    "plotfun(('Test'),parameter)"
   ]
  },
  {
   "cell_type": "raw",
   "metadata": {},
   "source": [
    "In the below cell a function that produces MSE, and R2-score for diffetent Degrees. We use what we got from \n",
    "above, and set constant values for the minimum number of samples, and also the maximum number of leaf nodes."
   ]
  },
  {
   "cell_type": "code",
   "execution_count": 72,
   "metadata": {},
   "outputs": [],
   "source": [
    "def DecisionDepth(DataType,depth):\n",
    "    mseDepth = []\n",
    "    r2Depth = []\n",
    "    for i in range(1,depth):\n",
    "        model = DecisionTreeRegressor(max_depth = i,min_samples_split = 100,max_features=19,max_leaf_nodes = 100,min_weight_fraction_leaf=0.001,random_state=42)\n",
    "        model.fit(XTrain,yTrain)\n",
    "        if DataType == 'Train':\n",
    "            score = cross_val_score(model,XTrain,yTrain,cv=5,scoring='r2')\n",
    "        else:\n",
    "            score = cross_val_score(model,XTest,yTest,cv=5,scoring='r2')\n",
    "        r2Score = np.mean(score)\n",
    "        r2Depth.append(np.mean(score))\n",
    "        # Also here, we calculate the MSE. Differentiate between training or Test data\n",
    "        if DataType == 'Train':\n",
    "            mseScore=cross_val_score(model,XTrain,yTrain,cv=5,scoring='neg_mean_squared_error')\n",
    "        elif DataType =='Test':\n",
    "            mseScore=cross_val_score(model,XTest,yTest,cv=5,scoring='neg_mean_squared_error')\n",
    "        MSE = np.mean(mseScore)\n",
    "        mseDepth.append(np.mean(mseScore)) # Make a list\n",
    "    return mseDepth,r2Depth\n",
    "f = DecisionDepth(('Train'),20)\n",
    "g = DecisionDepth(('Test'),20)"
   ]
  },
  {
   "cell_type": "code",
   "execution_count": 73,
   "metadata": {},
   "outputs": [
    {
     "data": {
      "image/png": "[encoded data removed]",
      "text/plain": [
       "<Figure size 432x288 with 1 Axes>"
      ]
     },
     "metadata": {
      "needs_background": "light"
     },
     "output_type": "display_data"
    },
    {
     "data": {
      "image/png": "[encoded data removed]",
      "text/plain": [
       "<Figure size 432x288 with 1 Axes>"
      ]
     },
     "metadata": {
      "needs_background": "light"
     },
     "output_type": "display_data"
    }
   ],
   "source": [
    "\n",
    "\n",
    "mseTrain,r2Train = f\n",
    "mseTest,r2Test = g\n",
    "mseTrain = np.array(mseTrain)\n",
    "mseTest = np.array(mseTest)\n",
    "x = range(1,20)\n",
    "plt.figure(1)\n",
    "plt.plot(x, -mseTrain, 'r',label='MSETrain') # plotting t, a separately\n",
    "plt.legend()\n",
    "plt.plot(x, -mseTest, 'b',label = 'MSETest') # plotting t, b separately \n",
    "plt.legend()\n",
    "plt.xlabel('Depth Of Tree')\n",
    "plt.ylabel('MSE')\n",
    "plt.title('BiasVariance-Tradeoff')\n",
    "plt.show()\n",
    "plt.figure(2)\n",
    "plt.plot(x, r2Train, 'r',label='R2Score Train') # plotting t, a separately\n",
    "plt.legend()\n",
    "plt.plot(x, r2Test, 'b',label = '2Score Test') # plotting t, b separately \n",
    "plt.legend()\n",
    "plt.xlabel('Depth Of Tree')\n",
    "plt.ylabel('R2-score')\n",
    "plt.title('R2 Score Of Train and Test Data')\n",
    "plt.show()"
   ]
  },
  {
   "cell_type": "code",
   "execution_count": 87,
   "metadata": {},
   "outputs": [
    {
     "name": "stdout",
     "output_type": "stream",
     "text": [
      "Feature ranking:\n",
      "1. feature 2 (0.660372)\n",
      "2. feature 1 (0.130372)\n",
      "3. feature 8 (0.052086)\n",
      "4. feature 6 (0.042107)\n",
      "5. feature 14 (0.025423)\n",
      "6. feature 0 (0.021620)\n",
      "7. feature 17 (0.017591)\n",
      "8. feature 13 (0.012723)\n",
      "9. feature 4 (0.011645)\n",
      "10. feature 3 (0.010714)\n",
      "11. feature 9 (0.007096)\n",
      "12. feature 16 (0.005102)\n",
      "13. feature 15 (0.002721)\n",
      "14. feature 18 (0.000427)\n",
      "15. feature 7 (0.000000)\n",
      "16. feature 10 (0.000000)\n",
      "17. feature 5 (0.000000)\n",
      "18. feature 11 (0.000000)\n",
      "19. feature 12 (0.000000)\n"
     ]
    },
    {
     "data": {
      "image/png": "[encoded data removed]",
      "text/plain": [
       "<Figure size 432x288 with 1 Axes>"
      ]
     },
     "metadata": {
      "needs_background": "light"
     },
     "output_type": "display_data"
    }
   ],
   "source": [
    "import seaborn as sns\n",
    "# From above, use depth = 6 since train, and Test are lowest then. Also, use 100 for other paramets.\n",
    "model = DecisionTreeRegressor(max_depth = 6,min_samples_split = 100,max_features=19,max_leaf_nodes = 100,min_weight_fraction_leaf=0.001,random_state=42)\n",
    "model.fit(XTrain,yTrain)\n",
    "feature_importances = model.feature_importances_\n",
    "\n",
    "indices = np.argsort(feature_importances)[::-1]\n",
    "# Print the feature ranking\n",
    "print(\"Feature ranking:\")\n",
    "for f in range(XTrain.shape[1]):\n",
    "    print(\"%d. feature %d (%f)\" % (f + 1, indices[f], feature_importances[indices[f]]))\n",
    "\n",
    "y_ticks = np.arange(0, len(feature_importances))\n",
    "fig, ax = plt.subplots()\n",
    "ax.barh(y_ticks, feature_importances[indices])\n",
    "ax.set_yticklabels(indices)\n",
    "ax.set_yticks(y_ticks)\n",
    "ax.set_title(\"Decision Trees Feature importance \")\n",
    "plt.xlabel('Feature Importance')\n",
    "plt.ylabel('Feature')\n",
    "fig.tight_layout()\n",
    "plt.show()\n"
   ]
  },
  {
   "cell_type": "code",
   "execution_count": null,
   "metadata": {},
   "outputs": [],
   "source": []
  },
  {
   "cell_type": "code",
   "execution_count": 2,
   "metadata": {},
   "outputs": [
    {
     "ename": "NameError",
     "evalue": "name 'List' is not defined",
     "output_type": "error",
     "traceback": [
      "\u001b[0;31m---------------------------------------------------------------------------\u001b[0m",
      "\u001b[0;31mNameError\u001b[0m                                 Traceback (most recent call last)",
      "\u001b[0;32m<ipython-input-2-60d9e584532d>\u001b[0m in \u001b[0;36m<module>\u001b[0;34m\u001b[0m\n\u001b[0;32m----> 1\u001b[0;31m \u001b[0mprint\u001b[0m\u001b[0;34m(\u001b[0m\u001b[0mList\u001b[0m\u001b[0;34m)\u001b[0m\u001b[0;34m\u001b[0m\u001b[0m\n\u001b[0m",
      "\u001b[0;31mNameError\u001b[0m: name 'List' is not defined"
     ]
    }
   ],
   "source": [
    "print(List)"
   ]
  },
  {
   "cell_type": "code",
   "execution_count": null,
   "metadata": {},
   "outputs": [],
   "source": []
  },
  {
   "cell_type": "code",
   "execution_count": null,
   "metadata": {},
   "outputs": [],
   "source": []
  }
 ],
 "metadata": {
  "kernelspec": {
   "display_name": "Python 3",
   "language": "python",
   "name": "python3"
  },
  "language_info": {
   "codemirror_mode": {
    "name": "ipython",
    "version": 3
   },
   "file_extension": ".py",
   "mimetype": "text/x-python",
   "name": "python",
   "nbconvert_exporter": "python",
   "pygments_lexer": "ipython3",
   "version": "3.7.0"
  }
 },
 "nbformat": 4,
 "nbformat_minor": 2
}
